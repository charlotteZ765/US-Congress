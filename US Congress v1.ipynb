{
 "cells": [
  {
   "cell_type": "markdown",
   "id": "aaec9eb1-f046-4216-8754-4386265c6a8c",
   "metadata": {},
   "source": [
    "# 0. Download data and setup environment.\n",
    "\n",
    "The environment used to run this problem set should have already been setup for you. Likewise, the data used for the problem set should already have been downloaded.\n",
    "\n",
    "\n",
    "### Setup environment\n",
    "To check that your environment is correctly setup, do the following.\n",
    "\n",
    "1. Check that the kernel is correctly set to `Python (ps1)`. If not, switch the kernel to `Python (ps1)`. You can do so by clicking on the button to the right of the debugger (bug symbol) button.\n",
    "2. Execute the following function."
   ]
  },
  {
   "cell_type": "code",
   "execution_count": 28,
   "id": "2babf1a2-a086-4cfa-a40c-10eb61be7244",
   "metadata": {},
   "outputs": [
    {
     "name": "stdout",
     "output_type": "stream",
     "text": [
      "\n"
     ]
    }
   ],
   "source": [
    "def check_key_installations ():\n",
    "    # Check if pandas, gensim, spacy and pyphen are installed\n",
    "    try:\n",
    "        import pandas as pd\n",
    "        import pyphen\n",
    "        dic = pyphen.Pyphen(lang='fr_FR')\n",
    "        assert dic.inserted('fromage') == 'fro-mage'\n",
    "        import scipy\n",
    "        assert scipy.__version__ == '1.12.0'\n",
    "        import gensim.downloader\n",
    "        import spacy\n",
    "        nlp = spacy.load (\"en_core_web_sm\", disable=[\"ner\", \"parser\"])\n",
    "        nlp.disable_pipe (\"ner\")\n",
    "        nlp.disable_pipe (\"parser\")\n",
    "        doc = nlp (\"Trying to parse this sentence\")\n",
    "        print (doc)\n",
    "        # Import nltk and download the punct models\n",
    "        import nltk\n",
    "        nltk.download (\"punkt_tab\")\n",
    "        print (\"Environment has been setup!\")\n",
    "    except Exception as e:\n",
    "        print (e)\n",
    "\n",
    "check_key_installations ()"
   ]
  },
  {
   "cell_type": "code",
   "execution_count": 29,
   "id": "788949ac-f13a-450b-a0b9-ec6596d6a024",
   "metadata": {},
   "outputs": [],
   "source": [
    "import random"
   ]
  },
  {
   "cell_type": "code",
   "execution_count": 30,
   "id": "52556b9d",
   "metadata": {},
   "outputs": [
    {
     "name": "stdout",
     "output_type": "stream",
     "text": [
      "Requirement already satisfied: spacy in /Users/lingyizhao/anaconda3/lib/python3.10/site-packages (3.8.4)\n",
      "Requirement already satisfied: jinja2 in /Users/lingyizhao/anaconda3/lib/python3.10/site-packages (from spacy) (3.1.2)\n",
      "Requirement already satisfied: tqdm<5.0.0,>=4.38.0 in /Users/lingyizhao/anaconda3/lib/python3.10/site-packages (from spacy) (4.64.1)\n",
      "Requirement already satisfied: packaging>=20.0 in /Users/lingyizhao/anaconda3/lib/python3.10/site-packages (from spacy) (22.0)\n",
      "Requirement already satisfied: spacy-loggers<2.0.0,>=1.0.0 in /Users/lingyizhao/anaconda3/lib/python3.10/site-packages (from spacy) (1.0.5)\n",
      "Requirement already satisfied: wasabi<1.2.0,>=0.9.1 in /Users/lingyizhao/anaconda3/lib/python3.10/site-packages (from spacy) (1.1.3)\n",
      "Requirement already satisfied: srsly<3.0.0,>=2.4.3 in /Users/lingyizhao/anaconda3/lib/python3.10/site-packages (from spacy) (2.5.1)\n",
      "Requirement already satisfied: setuptools in /Users/lingyizhao/anaconda3/lib/python3.10/site-packages (from spacy) (65.6.3)\n",
      "Requirement already satisfied: pydantic!=1.8,!=1.8.1,<3.0.0,>=1.7.4 in /Users/lingyizhao/anaconda3/lib/python3.10/site-packages (from spacy) (1.10.12)\n",
      "Requirement already satisfied: typer<1.0.0,>=0.3.0 in /Users/lingyizhao/anaconda3/lib/python3.10/site-packages (from spacy) (0.15.2)\n",
      "Requirement already satisfied: preshed<3.1.0,>=3.0.2 in /Users/lingyizhao/anaconda3/lib/python3.10/site-packages (from spacy) (3.0.9)\n",
      "Requirement already satisfied: numpy>=1.19.0 in /Users/lingyizhao/anaconda3/lib/python3.10/site-packages (from spacy) (1.26.4)\n",
      "Requirement already satisfied: thinc<8.4.0,>=8.3.4 in /Users/lingyizhao/anaconda3/lib/python3.10/site-packages (from spacy) (8.3.4)\n",
      "Requirement already satisfied: murmurhash<1.1.0,>=0.28.0 in /Users/lingyizhao/anaconda3/lib/python3.10/site-packages (from spacy) (1.0.12)\n",
      "Requirement already satisfied: langcodes<4.0.0,>=3.2.0 in /Users/lingyizhao/anaconda3/lib/python3.10/site-packages (from spacy) (3.5.0)\n",
      "Requirement already satisfied: cymem<2.1.0,>=2.0.2 in /Users/lingyizhao/anaconda3/lib/python3.10/site-packages (from spacy) (2.0.11)\n",
      "Requirement already satisfied: weasel<0.5.0,>=0.1.0 in /Users/lingyizhao/anaconda3/lib/python3.10/site-packages (from spacy) (0.4.1)\n",
      "Requirement already satisfied: catalogue<2.1.0,>=2.0.6 in /Users/lingyizhao/anaconda3/lib/python3.10/site-packages (from spacy) (2.0.10)\n",
      "Requirement already satisfied: spacy-legacy<3.1.0,>=3.0.11 in /Users/lingyizhao/anaconda3/lib/python3.10/site-packages (from spacy) (3.0.12)\n",
      "Requirement already satisfied: requests<3.0.0,>=2.13.0 in /Users/lingyizhao/anaconda3/lib/python3.10/site-packages (from spacy) (2.28.1)\n",
      "Requirement already satisfied: language-data>=1.2 in /Users/lingyizhao/anaconda3/lib/python3.10/site-packages (from langcodes<4.0.0,>=3.2.0->spacy) (1.3.0)\n",
      "Requirement already satisfied: typing-extensions>=4.2.0 in /Users/lingyizhao/anaconda3/lib/python3.10/site-packages (from pydantic!=1.8,!=1.8.1,<3.0.0,>=1.7.4->spacy) (4.12.2)\n",
      "Requirement already satisfied: charset-normalizer<3,>=2 in /Users/lingyizhao/anaconda3/lib/python3.10/site-packages (from requests<3.0.0,>=2.13.0->spacy) (2.0.4)\n",
      "Requirement already satisfied: idna<4,>=2.5 in /Users/lingyizhao/anaconda3/lib/python3.10/site-packages (from requests<3.0.0,>=2.13.0->spacy) (3.4)\n",
      "Requirement already satisfied: urllib3<1.27,>=1.21.1 in /Users/lingyizhao/anaconda3/lib/python3.10/site-packages (from requests<3.0.0,>=2.13.0->spacy) (1.26.14)\n",
      "Requirement already satisfied: certifi>=2017.4.17 in /Users/lingyizhao/anaconda3/lib/python3.10/site-packages (from requests<3.0.0,>=2.13.0->spacy) (2024.6.2)\n",
      "Requirement already satisfied: blis<1.3.0,>=1.2.0 in /Users/lingyizhao/anaconda3/lib/python3.10/site-packages (from thinc<8.4.0,>=8.3.4->spacy) (1.2.0)\n",
      "Requirement already satisfied: confection<1.0.0,>=0.0.1 in /Users/lingyizhao/anaconda3/lib/python3.10/site-packages (from thinc<8.4.0,>=8.3.4->spacy) (0.1.5)\n",
      "Requirement already satisfied: shellingham>=1.3.0 in /Users/lingyizhao/anaconda3/lib/python3.10/site-packages (from typer<1.0.0,>=0.3.0->spacy) (1.5.4)\n",
      "Requirement already satisfied: click>=8.0.0 in /Users/lingyizhao/anaconda3/lib/python3.10/site-packages (from typer<1.0.0,>=0.3.0->spacy) (8.0.4)\n",
      "Requirement already satisfied: rich>=10.11.0 in /Users/lingyizhao/anaconda3/lib/python3.10/site-packages (from typer<1.0.0,>=0.3.0->spacy) (13.9.4)\n",
      "Requirement already satisfied: cloudpathlib<1.0.0,>=0.7.0 in /Users/lingyizhao/anaconda3/lib/python3.10/site-packages (from weasel<0.5.0,>=0.1.0->spacy) (0.20.0)\n",
      "Requirement already satisfied: smart-open<8.0.0,>=5.2.1 in /Users/lingyizhao/anaconda3/lib/python3.10/site-packages (from weasel<0.5.0,>=0.1.0->spacy) (5.2.1)\n",
      "Requirement already satisfied: MarkupSafe>=2.0 in /Users/lingyizhao/anaconda3/lib/python3.10/site-packages (from jinja2->spacy) (2.1.1)\n",
      "Requirement already satisfied: marisa-trie>=1.1.0 in /Users/lingyizhao/anaconda3/lib/python3.10/site-packages (from language-data>=1.2->langcodes<4.0.0,>=3.2.0->spacy) (1.2.1)\n",
      "Requirement already satisfied: pygments<3.0.0,>=2.13.0 in /Users/lingyizhao/anaconda3/lib/python3.10/site-packages (from rich>=10.11.0->typer<1.0.0,>=0.3.0->spacy) (2.19.1)\n",
      "Requirement already satisfied: markdown-it-py>=2.2.0 in /Users/lingyizhao/anaconda3/lib/python3.10/site-packages (from rich>=10.11.0->typer<1.0.0,>=0.3.0->spacy) (3.0.0)\n",
      "Requirement already satisfied: mdurl~=0.1 in /Users/lingyizhao/anaconda3/lib/python3.10/site-packages (from markdown-it-py>=2.2.0->rich>=10.11.0->typer<1.0.0,>=0.3.0->spacy) (0.1.2)\n",
      "Note: you may need to restart the kernel to use updated packages.\n"
     ]
    }
   ],
   "source": [
    "pip install spacy"
   ]
  },
  {
   "cell_type": "code",
   "execution_count": 31,
   "id": "3e7396dd",
   "metadata": {},
   "outputs": [
    {
     "name": "stdout",
     "output_type": "stream",
     "text": [
      "Collecting en-core-web-sm==3.8.0\n",
      "  Downloading https://github.com/explosion/spacy-models/releases/download/en_core_web_sm-3.8.0/en_core_web_sm-3.8.0-py3-none-any.whl (12.8 MB)\n",
      "\u001b[2K     \u001b[90m━━━━━━━━━━━━━━━━━━━━━━━━━━━━━━━━━━━━━━━━\u001b[0m \u001b[32m12.8/12.8 MB\u001b[0m \u001b[31m80.2 MB/s\u001b[0m eta \u001b[36m0:00:00\u001b[0m00:01\u001b[0m0:01\u001b[0m\n",
      "\u001b[?25h\u001b[38;5;2m✔ Download and installation successful\u001b[0m\n",
      "You can now load the package via spacy.load('en_core_web_sm')\n"
     ]
    }
   ],
   "source": [
    "!python -m spacy download en_core_web_sm"
   ]
  },
  {
   "cell_type": "markdown",
   "id": "3de9820e-5ee6-4940-a06f-887a890dfa83",
   "metadata": {},
   "source": [
    "If the function executes and prints \"Environment has been setup!\", then you are set; otherwise go to the next step.\n",
    "\n",
    "3. Depending on the error you're facing, you may have to install missing packages by running the following commands.\n",
    "\n",
    "```\n",
    "pip install pyphen\n",
    "pip install scipy==1.12\n",
    "python -m spacy download en_core_web_sm \n",
    "```\n",
    "\n",
    "If you still encounter any problem and you can't resolve on your own, please send an email to `qtm340-support@listserv.emory.edu` describing your problem and attach a screenshot."
   ]
  },
  {
   "cell_type": "markdown",
   "id": "f3470591-b151-47e1-9750-6fb324c11f60",
   "metadata": {},
   "source": [
    "### Download the data\n",
    "\n",
    "To check if the data for this problem set is already downloaded, perform the following steps.\n",
    "\n",
    "1. Check if `us_congress_speeches.parquet.gz` and `uk_parl_df.parquet.gz` are already present in your current directory. You can check this by executing the following cell. "
   ]
  },
  {
   "cell_type": "markdown",
   "id": "15fcdee8-e46b-4945-a0d0-d1d7896cf61a",
   "metadata": {},
   "source": [
    "If the two files are not present, then copy the following and execute in a cell, which should download the two parquet files"
   ]
  },
  {
   "cell_type": "code",
   "execution_count": null,
   "id": "8d739353",
   "metadata": {},
   "outputs": [
    {
     "name": "stdout",
     "output_type": "stream",
     "text": [
      "Collecting gdown\n",
      "  Downloading gdown-5.2.0-py3-none-any.whl (18 kB)\n",
      "Requirement already satisfied: beautifulsoup4 in /Users/lingyizhao/anaconda3/lib/python3.10/site-packages (from gdown) (4.11.1)\n",
      "Requirement already satisfied: filelock in /Users/lingyizhao/anaconda3/lib/python3.10/site-packages (from gdown) (3.9.0)\n",
      "Requirement already satisfied: requests[socks] in /Users/lingyizhao/anaconda3/lib/python3.10/site-packages (from gdown) (2.28.1)\n",
      "Requirement already satisfied: tqdm in /Users/lingyizhao/anaconda3/lib/python3.10/site-packages (from gdown) (4.64.1)\n",
      "Requirement already satisfied: soupsieve>1.2 in /Users/lingyizhao/anaconda3/lib/python3.10/site-packages (from beautifulsoup4->gdown) (2.3.2.post1)\n",
      "Requirement already satisfied: idna<4,>=2.5 in /Users/lingyizhao/anaconda3/lib/python3.10/site-packages (from requests[socks]->gdown) (3.4)\n",
      "Requirement already satisfied: certifi>=2017.4.17 in /Users/lingyizhao/anaconda3/lib/python3.10/site-packages (from requests[socks]->gdown) (2024.6.2)\n",
      "Requirement already satisfied: urllib3<1.27,>=1.21.1 in /Users/lingyizhao/anaconda3/lib/python3.10/site-packages (from requests[socks]->gdown) (1.26.14)\n",
      "Requirement already satisfied: charset-normalizer<3,>=2 in /Users/lingyizhao/anaconda3/lib/python3.10/site-packages (from requests[socks]->gdown) (2.0.4)\n",
      "Requirement already satisfied: PySocks!=1.5.7,>=1.5.6 in /Users/lingyizhao/anaconda3/lib/python3.10/site-packages (from requests[socks]->gdown) (1.7.1)\n",
      "Installing collected packages: gdown\n",
      "Successfully installed gdown-5.2.0\n"
     ]
    },
    {
     "name": "stderr",
     "output_type": "stream",
     "text": [
      "Downloading...\n",
      "From (original): https://drive.google.com/uc?id=1nCZBeSHcBL3dFUcGiKFbArrxm8tO5S5D\n",
      "From (redirected): https://drive.google.com/uc?id=1nCZBeSHcBL3dFUcGiKFbArrxm8tO5S5D&confirm=t&uuid=43155810-3935-48b9-a885-debac8edfbf3\n",
      "To: /Users/lingyizhao/emory/2025 spring/qtm 340/ps1/us_congress_speeches.zip\n",
      "100%|██████████| 171M/171M [00:02<00:00, 62.4MB/s] \n",
      "Downloading...\n",
      "From (original): https://drive.google.com/uc?id=1XVMU67O21tMm6bh-Dqyr9uj7LSML6Eic\n",
      "From (redirected): https://drive.google.com/uc?id=1XVMU67O21tMm6bh-Dqyr9uj7LSML6Eic&confirm=t&uuid=cc9b204e-c6ad-4195-a133-1a43242afe03\n",
      "To: /Users/lingyizhao/emory/2025 spring/qtm 340/ps1/uk_parliament_speeches.zip\n",
      "100%|██████████| 280M/280M [00:04<00:00, 66.9MB/s] "
     ]
    },
    {
     "name": "stdout",
     "output_type": "stream",
     "text": [
      "Download complete!\n"
     ]
    },
    {
     "name": "stderr",
     "output_type": "stream",
     "text": [
      "\n"
     ]
    }
   ],
   "source": [
    "!pip install gdown  # Ensure gdown is installed\n",
    "import gdown\n",
    "\n",
    "# Define file IDs\n",
    "us_speeches_id = \"1nCZBeSHcBL3dFUcGiKFbArrxm8tO5S5D\"\n",
    "uk_speeches_id = \"1XVMU67O21tMm6bh-Dqyr9uj7LSML6Eic\"\n",
    "\n",
    "# Define output file names\n",
    "us_output = \"us_congress_speeches.zip\"\n",
    "uk_output = \"uk_parliament_speeches.zip\"\n",
    "\n",
    "# Download files\n",
    "gdown.download(f\"https://drive.google.com/uc?id={us_speeches_id}\", us_output, quiet=False)\n",
    "gdown.download(f\"https://drive.google.com/uc?id={uk_speeches_id}\", uk_output, quiet=False)\n",
    "\n",
    "print(\"Download complete!\")\n"
   ]
  },
  {
   "cell_type": "markdown",
   "id": "19b0f97e-55d5-44a0-bfd2-f5cc5d7a108c",
   "metadata": {},
   "source": [
    "```\n",
    "%%bash\n",
    "gdown 1nCZBeSHcBL3dFUcGiKFbArrxm8tO5S5D # US congressional speeches data\n",
    "gdown 1XVMU67O21tMm6bh-Dqyr9uj7LSML6Eic # UK parliament speeches data\n",
    "```"
   ]
  },
  {
   "cell_type": "markdown",
   "id": "daef5376-cbdb-4d98-a8ad-f771879b44f8",
   "metadata": {},
   "source": [
    "Parquet files are specially formatted binary files to store dataframes efficiently. `pandas` provides functionality to load and save data from or to compressed parquet files. "
   ]
  },
  {
   "cell_type": "markdown",
   "id": "58b63039-cfe2-43eb-99b1-ae17037fc6b1",
   "metadata": {},
   "source": [
    "# 1. Initialization"
   ]
  },
  {
   "cell_type": "markdown",
   "id": "09c72759-d425-47c9-88fa-61071085fc8b",
   "metadata": {},
   "source": [
    "Let's organize. We'll keep all the import statements and configuration of global variables/objects in one cell so it's easy to track."
   ]
  },
  {
   "cell_type": "code",
   "execution_count": null,
   "id": "5cbbfd62-2f89-4327-8857-9e846f80c317",
   "metadata": {},
   "outputs": [
    {
     "name": "stderr",
     "output_type": "stream",
     "text": [
      "[nltk_data] Downloading package punkt_tab to\n",
      "[nltk_data]     /Users/lingyizhao/nltk_data...\n",
      "[nltk_data]   Unzipping tokenizers/punkt_tab.zip.\n"
     ]
    },
    {
     "name": "stdout",
     "output_type": "stream",
     "text": [
      "[==================================================] 100.0% 128.1/128.1MB downloaded\n"
     ]
    }
   ],
   "source": [
    "# Import the general libraries\n",
    "import math\n",
    "import pandas as pd\n",
    "from tqdm import tqdm\n",
    "import numpy as np\n",
    "from collections import defaultdict, Counter\n",
    "import matplotlib.pyplot as pyplot\n",
    "%matplotlib inline\n",
    "\n",
    "# Import spacy and configure the nlp pipeline for spacy\n",
    "import spacy\n",
    "nlp = spacy.load (\"en_core_web_sm\", disable=[\"ner\", \"parser\"])\n",
    "nlp.disable_pipe (\"ner\")\n",
    "nlp.disable_pipe (\"parser\")\n",
    "\n",
    "# Import nltk and download the punct models\n",
    "import nltk\n",
    "nltk.download (\"punkt_tab\")\n",
    "\n",
    "import pyphen\n",
    "# Initialize the pyphen objects\n",
    "dic_us = pyphen.Pyphen (lang=\"en_US\")\n",
    "dic_uk = pyphen.Pyphen (lang=\"en_GB\")\n",
    "\n",
    "# Initialize a pre-trained word2vec model\n",
    "import gensim.downloader\n",
    "from gensim.models import Word2Vec\n",
    "w2v_pretrained_model = gensim.downloader.load('glove-wiki-gigaword-100')"
   ]
  },
  {
   "cell_type": "markdown",
   "id": "c026ba41-03da-4f02-a122-d60b34fb96b8",
   "metadata": {},
   "source": [
    "Next, we'll load the data into dataframes"
   ]
  },
  {
   "cell_type": "code",
   "execution_count": null,
   "id": "7b208dea-af5e-4cf8-bbd1-9d336557513e",
   "metadata": {},
   "outputs": [],
   "source": [
    "import pandas as pd\n",
    "#us_speeches = pd.read_parquet(\"us_congress_speeches.parquet.gz\", engine=\"fastparquet\", compression=\"gzip\")\n",
    "\n",
    "us_speeches = pd.read_parquet (\"us_congress_speeches.zip\")\n",
    "uk_speeches = pd.read_parquet (\"uk_parliament_speeches.zip\")\n",
    "\n",
    "# Remove all the US congress speeches that are not from a speaker with either a\n",
    "# democrat or republican affiliation\n",
    "us_speeches = us_speeches[us_speeches[\"party\"].isin ([\"R\", \"D\"])]\n",
    "\n",
    "# Remove all the UK speeches whose gender is None\n",
    "uk_speeches = uk_speeches[~uk_speeches[\"gender\"].isna()]"
   ]
  },
  {
   "cell_type": "code",
   "execution_count": null,
   "id": "f2d64190",
   "metadata": {},
   "outputs": [
    {
     "name": "stdout",
     "output_type": "stream",
     "text": [
      "Collecting fastparquet\n",
      "  Downloading fastparquet-2024.11.0-cp310-cp310-macosx_11_0_arm64.whl (684 kB)\n",
      "\u001b[2K     \u001b[90m━━━━━━━━━━━━━━━━━━━━━━━━━━━━━━━━━━━━━━━\u001b[0m \u001b[32m684.1/684.1 kB\u001b[0m \u001b[31m9.8 MB/s\u001b[0m eta \u001b[36m0:00:00\u001b[0ma \u001b[36m0:00:01\u001b[0m\n",
      "\u001b[?25hRequirement already satisfied: fsspec in /Users/lingyizhao/anaconda3/lib/python3.10/site-packages (from fastparquet) (2022.11.0)\n",
      "Requirement already satisfied: packaging in /Users/lingyizhao/anaconda3/lib/python3.10/site-packages (from fastparquet) (22.0)\n",
      "Collecting cramjam>=2.3\n",
      "  Downloading cramjam-2.9.1-cp310-cp310-macosx_11_0_arm64.whl (1.9 MB)\n",
      "\u001b[2K     \u001b[90m━━━━━━━━━━━━━━━━━━━━━━━━━━━━━━━━━━━━━━━━\u001b[0m \u001b[32m1.9/1.9 MB\u001b[0m \u001b[31m20.6 MB/s\u001b[0m eta \u001b[36m0:00:00\u001b[0ma \u001b[36m0:00:01\u001b[0m\n",
      "\u001b[?25hRequirement already satisfied: numpy in /Users/lingyizhao/anaconda3/lib/python3.10/site-packages (from fastparquet) (1.26.4)\n",
      "Requirement already satisfied: pandas>=1.5.0 in /Users/lingyizhao/anaconda3/lib/python3.10/site-packages (from fastparquet) (2.2.3)\n",
      "Requirement already satisfied: tzdata>=2022.7 in /Users/lingyizhao/anaconda3/lib/python3.10/site-packages (from pandas>=1.5.0->fastparquet) (2025.1)\n",
      "Requirement already satisfied: pytz>=2020.1 in /Users/lingyizhao/anaconda3/lib/python3.10/site-packages (from pandas>=1.5.0->fastparquet) (2022.7)\n",
      "Requirement already satisfied: python-dateutil>=2.8.2 in /Users/lingyizhao/anaconda3/lib/python3.10/site-packages (from pandas>=1.5.0->fastparquet) (2.8.2)\n",
      "Requirement already satisfied: six>=1.5 in /Users/lingyizhao/anaconda3/lib/python3.10/site-packages (from python-dateutil>=2.8.2->pandas>=1.5.0->fastparquet) (1.16.0)\n",
      "Installing collected packages: cramjam, fastparquet\n",
      "Successfully installed cramjam-2.9.1 fastparquet-2024.11.0\n"
     ]
    }
   ],
   "source": [
    "!pip install fastparquet\n"
   ]
  },
  {
   "cell_type": "code",
   "execution_count": null,
   "id": "94af0f74",
   "metadata": {},
   "outputs": [
    {
     "data": {
      "text/html": [
       "<div>\n",
       "<style scoped>\n",
       "    .dataframe tbody tr th:only-of-type {\n",
       "        vertical-align: middle;\n",
       "    }\n",
       "\n",
       "    .dataframe tbody tr th {\n",
       "        vertical-align: top;\n",
       "    }\n",
       "\n",
       "    .dataframe thead th {\n",
       "        text-align: right;\n",
       "    }\n",
       "</style>\n",
       "<table border=\"1\" class=\"dataframe\">\n",
       "  <thead>\n",
       "    <tr style=\"text-align: right;\">\n",
       "      <th></th>\n",
       "      <th>speakerid</th>\n",
       "      <th>speech_id</th>\n",
       "      <th>chamber</th>\n",
       "      <th>gender</th>\n",
       "      <th>party</th>\n",
       "      <th>congress</th>\n",
       "      <th>tokenized_speech</th>\n",
       "    </tr>\n",
       "  </thead>\n",
       "  <tbody>\n",
       "    <tr>\n",
       "      <th>0</th>\n",
       "      <td>107113420</td>\n",
       "      <td>1070000102</td>\n",
       "      <td>H</td>\n",
       "      <td>M</td>\n",
       "      <td>R</td>\n",
       "      <td>107</td>\n",
       "      <td>[mr., clerk., the, congress, and, the, nation,...</td>\n",
       "    </tr>\n",
       "    <tr>\n",
       "      <th>1</th>\n",
       "      <td>107113640</td>\n",
       "      <td>1070000104</td>\n",
       "      <td>H</td>\n",
       "      <td>M</td>\n",
       "      <td>D</td>\n",
       "      <td>107</td>\n",
       "      <td>[mr., clerk., as, chairman, of, the, democrati...</td>\n",
       "    </tr>\n",
       "    <tr>\n",
       "      <th>2</th>\n",
       "      <td>107113650</td>\n",
       "      <td>1070000110</td>\n",
       "      <td>H</td>\n",
       "      <td>M</td>\n",
       "      <td>D</td>\n",
       "      <td>107</td>\n",
       "      <td>[members, of, the, house., families, of, house...</td>\n",
       "    </tr>\n",
       "    <tr>\n",
       "      <th>3</th>\n",
       "      <td>107114840</td>\n",
       "      <td>1070000111</td>\n",
       "      <td>H</td>\n",
       "      <td>M</td>\n",
       "      <td>R</td>\n",
       "      <td>107</td>\n",
       "      <td>[i, guess, i, really, should, not, hammer, it,...</td>\n",
       "    </tr>\n",
       "    <tr>\n",
       "      <th>4</th>\n",
       "      <td>107117580</td>\n",
       "      <td>1070000112</td>\n",
       "      <td>H</td>\n",
       "      <td>M</td>\n",
       "      <td>D</td>\n",
       "      <td>107</td>\n",
       "      <td>[then, administered, the, oath, of, office, to...</td>\n",
       "    </tr>\n",
       "    <tr>\n",
       "      <th>...</th>\n",
       "      <td>...</td>\n",
       "      <td>...</td>\n",
       "      <td>...</td>\n",
       "      <td>...</td>\n",
       "      <td>...</td>\n",
       "      <td>...</td>\n",
       "      <td>...</td>\n",
       "    </tr>\n",
       "    <tr>\n",
       "      <th>331253</th>\n",
       "      <td>111121290</td>\n",
       "      <td>1110111060</td>\n",
       "      <td>H</td>\n",
       "      <td>M</td>\n",
       "      <td>D</td>\n",
       "      <td>111</td>\n",
       "      <td>[i, would, agree., and, i, have, introduced., ...</td>\n",
       "    </tr>\n",
       "    <tr>\n",
       "      <th>331254</th>\n",
       "      <td>111121290</td>\n",
       "      <td>1110120299</td>\n",
       "      <td>H</td>\n",
       "      <td>M</td>\n",
       "      <td>D</td>\n",
       "      <td>111</td>\n",
       "      <td>[madam, speaker., i, yield, such, time, as, he...</td>\n",
       "    </tr>\n",
       "    <tr>\n",
       "      <th>331256</th>\n",
       "      <td>111118710</td>\n",
       "      <td>1110120587</td>\n",
       "      <td>H</td>\n",
       "      <td>M</td>\n",
       "      <td>R</td>\n",
       "      <td>111</td>\n",
       "      <td>[in, his, 5minute, speech., talked, about, the...</td>\n",
       "    </tr>\n",
       "    <tr>\n",
       "      <th>331257</th>\n",
       "      <td>111121510</td>\n",
       "      <td>1110134147</td>\n",
       "      <td>H</td>\n",
       "      <td>M</td>\n",
       "      <td>D</td>\n",
       "      <td>111</td>\n",
       "      <td>[madam, speaker., i, rise, today, to, honor, m...</td>\n",
       "    </tr>\n",
       "    <tr>\n",
       "      <th>331258</th>\n",
       "      <td>111120060</td>\n",
       "      <td>1110168389</td>\n",
       "      <td>H</td>\n",
       "      <td>M</td>\n",
       "      <td>R</td>\n",
       "      <td>111</td>\n",
       "      <td>[reclaiming, my, time, and, thanking, the, gen...</td>\n",
       "    </tr>\n",
       "  </tbody>\n",
       "</table>\n",
       "<p>239883 rows × 7 columns</p>\n",
       "</div>"
      ],
      "text/plain": [
       "        speakerid   speech_id chamber gender party  congress  \\\n",
       "0       107113420  1070000102       H      M     R       107   \n",
       "1       107113640  1070000104       H      M     D       107   \n",
       "2       107113650  1070000110       H      M     D       107   \n",
       "3       107114840  1070000111       H      M     R       107   \n",
       "4       107117580  1070000112       H      M     D       107   \n",
       "...           ...         ...     ...    ...   ...       ...   \n",
       "331253  111121290  1110111060       H      M     D       111   \n",
       "331254  111121290  1110120299       H      M     D       111   \n",
       "331256  111118710  1110120587       H      M     R       111   \n",
       "331257  111121510  1110134147       H      M     D       111   \n",
       "331258  111120060  1110168389       H      M     R       111   \n",
       "\n",
       "                                         tokenized_speech  \n",
       "0       [mr., clerk., the, congress, and, the, nation,...  \n",
       "1       [mr., clerk., as, chairman, of, the, democrati...  \n",
       "2       [members, of, the, house., families, of, house...  \n",
       "3       [i, guess, i, really, should, not, hammer, it,...  \n",
       "4       [then, administered, the, oath, of, office, to...  \n",
       "...                                                   ...  \n",
       "331253  [i, would, agree., and, i, have, introduced., ...  \n",
       "331254  [madam, speaker., i, yield, such, time, as, he...  \n",
       "331256  [in, his, 5minute, speech., talked, about, the...  \n",
       "331257  [madam, speaker., i, rise, today, to, honor, m...  \n",
       "331258  [reclaiming, my, time, and, thanking, the, gen...  \n",
       "\n",
       "[239883 rows x 7 columns]"
      ]
     },
     "execution_count": 26,
     "metadata": {},
     "output_type": "execute_result"
    }
   ],
   "source": [
    "us_speeches"
   ]
  },
  {
   "cell_type": "markdown",
   "id": "a6469d65-cc02-4aba-a171-a1f2b27b7dd8",
   "metadata": {},
   "source": [
    "We should have two dataframes now. One that holds the data for US congressional speeches and the other for UK parliamentary speech.\n",
    "\n",
    "For the **US speeches**, we have the following columns in the dataframe.\n",
    "\n",
    "- `speakerid`: An ID to distinguish between different speakers (for this assigment, we can ignore this column)\n",
    "- `speech_id`: An ID to distinguish between different speeches or speech segments (for this assigment, we can ignore this column also)\n",
    "- `chamber`: The chamber in which this speech was made. As part of preprocessing, only the speeches made in the house were retained.\n",
    "- `gender`: The binary gender of the speaker. The value is one of {M,F}\n",
    "- `party`: The party of the speaker. We've ignored any speeches that are not marked as either 'R' or 'D'. 'R' stands for a speech by a member of congress who has identified themselves with the Republican party; 'D' stands for democratic party.\n",
    "- `congress`: The congress session. The values range from 107 to 111. 107th congress spans roughly from the beginning of 2001 to the end of 2002. Every subsequent corpus is of 2 years. You'll need this type of mapping to do temporal analysis.\n",
    "- `tokenized_speech`: The speech segmented into tokens. The tokens are obtained by running spacy on the raw text.\n",
    "\n",
    "\n",
    "For the **UK speeches**, we have the following columns in the dataframe.\n",
    "- `id`: An ID to distinguish every speech or speech segment.\n",
    "- `speech_date`: Unlike US speeches, every speech in the UK dataset is marked with a precise date.\n",
    "- `year`: Year extracted from the date\n",
    "- `gender`: The gender of the speaker. Values can be one of {\"Male\", \"Female\"}\n",
    "- `party`: The party of the speaker. Since we won't do any comparative analysis of speeches for this dataset, you can ignore the party in your analysis.\n",
    "- `tokenized_speech`: The speech segmented into tokens. The tokens are obtained by running spacy on the raw text.\n"
   ]
  },
  {
   "cell_type": "code",
   "execution_count": null,
   "id": "7e567e20-1f94-4e2b-a082-57d7f6752afe",
   "metadata": {},
   "outputs": [
    {
     "data": {
      "text/html": [
       "<div>\n",
       "<style scoped>\n",
       "    .dataframe tbody tr th:only-of-type {\n",
       "        vertical-align: middle;\n",
       "    }\n",
       "\n",
       "    .dataframe tbody tr th {\n",
       "        vertical-align: top;\n",
       "    }\n",
       "\n",
       "    .dataframe thead th {\n",
       "        text-align: right;\n",
       "    }\n",
       "</style>\n",
       "<table border=\"1\" class=\"dataframe\">\n",
       "  <thead>\n",
       "    <tr style=\"text-align: right;\">\n",
       "      <th></th>\n",
       "      <th>speakerid</th>\n",
       "      <th>speech_id</th>\n",
       "      <th>chamber</th>\n",
       "      <th>gender</th>\n",
       "      <th>party</th>\n",
       "      <th>congress</th>\n",
       "      <th>tokenized_speech</th>\n",
       "    </tr>\n",
       "  </thead>\n",
       "  <tbody>\n",
       "    <tr>\n",
       "      <th>0</th>\n",
       "      <td>107113420</td>\n",
       "      <td>1070000102</td>\n",
       "      <td>H</td>\n",
       "      <td>M</td>\n",
       "      <td>R</td>\n",
       "      <td>107</td>\n",
       "      <td>[mr., clerk., the, congress, and, the, nation,...</td>\n",
       "    </tr>\n",
       "    <tr>\n",
       "      <th>1</th>\n",
       "      <td>107113640</td>\n",
       "      <td>1070000104</td>\n",
       "      <td>H</td>\n",
       "      <td>M</td>\n",
       "      <td>D</td>\n",
       "      <td>107</td>\n",
       "      <td>[mr., clerk., as, chairman, of, the, democrati...</td>\n",
       "    </tr>\n",
       "    <tr>\n",
       "      <th>2</th>\n",
       "      <td>107113650</td>\n",
       "      <td>1070000110</td>\n",
       "      <td>H</td>\n",
       "      <td>M</td>\n",
       "      <td>D</td>\n",
       "      <td>107</td>\n",
       "      <td>[members, of, the, house., families, of, house...</td>\n",
       "    </tr>\n",
       "    <tr>\n",
       "      <th>3</th>\n",
       "      <td>107114840</td>\n",
       "      <td>1070000111</td>\n",
       "      <td>H</td>\n",
       "      <td>M</td>\n",
       "      <td>R</td>\n",
       "      <td>107</td>\n",
       "      <td>[i, guess, i, really, should, not, hammer, it,...</td>\n",
       "    </tr>\n",
       "    <tr>\n",
       "      <th>4</th>\n",
       "      <td>107117580</td>\n",
       "      <td>1070000112</td>\n",
       "      <td>H</td>\n",
       "      <td>M</td>\n",
       "      <td>D</td>\n",
       "      <td>107</td>\n",
       "      <td>[then, administered, the, oath, of, office, to...</td>\n",
       "    </tr>\n",
       "    <tr>\n",
       "      <th>...</th>\n",
       "      <td>...</td>\n",
       "      <td>...</td>\n",
       "      <td>...</td>\n",
       "      <td>...</td>\n",
       "      <td>...</td>\n",
       "      <td>...</td>\n",
       "      <td>...</td>\n",
       "    </tr>\n",
       "    <tr>\n",
       "      <th>331253</th>\n",
       "      <td>111121290</td>\n",
       "      <td>1110111060</td>\n",
       "      <td>H</td>\n",
       "      <td>M</td>\n",
       "      <td>D</td>\n",
       "      <td>111</td>\n",
       "      <td>[i, would, agree., and, i, have, introduced., ...</td>\n",
       "    </tr>\n",
       "    <tr>\n",
       "      <th>331254</th>\n",
       "      <td>111121290</td>\n",
       "      <td>1110120299</td>\n",
       "      <td>H</td>\n",
       "      <td>M</td>\n",
       "      <td>D</td>\n",
       "      <td>111</td>\n",
       "      <td>[madam, speaker., i, yield, such, time, as, he...</td>\n",
       "    </tr>\n",
       "    <tr>\n",
       "      <th>331256</th>\n",
       "      <td>111118710</td>\n",
       "      <td>1110120587</td>\n",
       "      <td>H</td>\n",
       "      <td>M</td>\n",
       "      <td>R</td>\n",
       "      <td>111</td>\n",
       "      <td>[in, his, 5minute, speech., talked, about, the...</td>\n",
       "    </tr>\n",
       "    <tr>\n",
       "      <th>331257</th>\n",
       "      <td>111121510</td>\n",
       "      <td>1110134147</td>\n",
       "      <td>H</td>\n",
       "      <td>M</td>\n",
       "      <td>D</td>\n",
       "      <td>111</td>\n",
       "      <td>[madam, speaker., i, rise, today, to, honor, m...</td>\n",
       "    </tr>\n",
       "    <tr>\n",
       "      <th>331258</th>\n",
       "      <td>111120060</td>\n",
       "      <td>1110168389</td>\n",
       "      <td>H</td>\n",
       "      <td>M</td>\n",
       "      <td>R</td>\n",
       "      <td>111</td>\n",
       "      <td>[reclaiming, my, time, and, thanking, the, gen...</td>\n",
       "    </tr>\n",
       "  </tbody>\n",
       "</table>\n",
       "<p>239883 rows × 7 columns</p>\n",
       "</div>"
      ],
      "text/plain": [
       "        speakerid   speech_id chamber gender party  congress  \\\n",
       "0       107113420  1070000102       H      M     R       107   \n",
       "1       107113640  1070000104       H      M     D       107   \n",
       "2       107113650  1070000110       H      M     D       107   \n",
       "3       107114840  1070000111       H      M     R       107   \n",
       "4       107117580  1070000112       H      M     D       107   \n",
       "...           ...         ...     ...    ...   ...       ...   \n",
       "331253  111121290  1110111060       H      M     D       111   \n",
       "331254  111121290  1110120299       H      M     D       111   \n",
       "331256  111118710  1110120587       H      M     R       111   \n",
       "331257  111121510  1110134147       H      M     D       111   \n",
       "331258  111120060  1110168389       H      M     R       111   \n",
       "\n",
       "                                         tokenized_speech  \n",
       "0       [mr., clerk., the, congress, and, the, nation,...  \n",
       "1       [mr., clerk., as, chairman, of, the, democrati...  \n",
       "2       [members, of, the, house., families, of, house...  \n",
       "3       [i, guess, i, really, should, not, hammer, it,...  \n",
       "4       [then, administered, the, oath, of, office, to...  \n",
       "...                                                   ...  \n",
       "331253  [i, would, agree., and, i, have, introduced., ...  \n",
       "331254  [madam, speaker., i, yield, such, time, as, he...  \n",
       "331256  [in, his, 5minute, speech., talked, about, the...  \n",
       "331257  [madam, speaker., i, rise, today, to, honor, m...  \n",
       "331258  [reclaiming, my, time, and, thanking, the, gen...  \n",
       "\n",
       "[239883 rows x 7 columns]"
      ]
     },
     "execution_count": 56,
     "metadata": {},
     "output_type": "execute_result"
    }
   ],
   "source": [
    "us_speeches"
   ]
  },
  {
   "cell_type": "code",
   "execution_count": null,
   "id": "845e0e18",
   "metadata": {},
   "outputs": [
    {
     "data": {
      "text/html": [
       "<div>\n",
       "<style scoped>\n",
       "    .dataframe tbody tr th:only-of-type {\n",
       "        vertical-align: middle;\n",
       "    }\n",
       "\n",
       "    .dataframe tbody tr th {\n",
       "        vertical-align: top;\n",
       "    }\n",
       "\n",
       "    .dataframe thead th {\n",
       "        text-align: right;\n",
       "    }\n",
       "</style>\n",
       "<table border=\"1\" class=\"dataframe\">\n",
       "  <thead>\n",
       "    <tr style=\"text-align: right;\">\n",
       "      <th></th>\n",
       "      <th>id</th>\n",
       "      <th>speech_date</th>\n",
       "      <th>year</th>\n",
       "      <th>gender</th>\n",
       "      <th>party</th>\n",
       "      <th>tokenized_speech</th>\n",
       "    </tr>\n",
       "  </thead>\n",
       "  <tbody>\n",
       "    <tr>\n",
       "      <th>3182</th>\n",
       "      <td>2001-01-15a.3.3</td>\n",
       "      <td>2001-01-15</td>\n",
       "      <td>2001</td>\n",
       "      <td>Male</td>\n",
       "      <td>Independent Conservative</td>\n",
       "      <td>[is, not, it, noteworthy, that, supporters, of...</td>\n",
       "    </tr>\n",
       "    <tr>\n",
       "      <th>3183</th>\n",
       "      <td>2001-01-15a.7.3</td>\n",
       "      <td>2001-01-15</td>\n",
       "      <td>2001</td>\n",
       "      <td>Male</td>\n",
       "      <td>Labour</td>\n",
       "      <td>[may, i, take, the, opportunity, to, remove, a...</td>\n",
       "    </tr>\n",
       "    <tr>\n",
       "      <th>3185</th>\n",
       "      <td>2001-01-15a.7.7</td>\n",
       "      <td>2001-01-15</td>\n",
       "      <td>2001</td>\n",
       "      <td>Male</td>\n",
       "      <td>Labour</td>\n",
       "      <td>[i, can, give, you, that, assurance, absolutel...</td>\n",
       "    </tr>\n",
       "    <tr>\n",
       "      <th>3186</th>\n",
       "      <td>2001-01-15a.15.2</td>\n",
       "      <td>2001-01-15</td>\n",
       "      <td>2001</td>\n",
       "      <td>Male</td>\n",
       "      <td>Independent Conservative</td>\n",
       "      <td>[yesterday's, sunday, telegraph, reported, tha...</td>\n",
       "    </tr>\n",
       "    <tr>\n",
       "      <th>3187</th>\n",
       "      <td>2001-01-15a.26.0</td>\n",
       "      <td>2001-01-15</td>\n",
       "      <td>2001</td>\n",
       "      <td>Male</td>\n",
       "      <td>Independent Conservative</td>\n",
       "      <td>[in, a, disaster, of, such, magnitude,, is, no...</td>\n",
       "    </tr>\n",
       "    <tr>\n",
       "      <th>...</th>\n",
       "      <td>...</td>\n",
       "      <td>...</td>\n",
       "      <td>...</td>\n",
       "      <td>...</td>\n",
       "      <td>...</td>\n",
       "      <td>...</td>\n",
       "    </tr>\n",
       "    <tr>\n",
       "      <th>808784</th>\n",
       "      <td>2010-12-14a.871.0</td>\n",
       "      <td>2010-12-14</td>\n",
       "      <td>2010</td>\n",
       "      <td>Male</td>\n",
       "      <td>Labour</td>\n",
       "      <td>[i, think, i, will, take, that, as, a, sort, o...</td>\n",
       "    </tr>\n",
       "    <tr>\n",
       "      <th>808785</th>\n",
       "      <td>2010-12-14a.872.0</td>\n",
       "      <td>2010-12-14</td>\n",
       "      <td>2010</td>\n",
       "      <td>Male</td>\n",
       "      <td>Conservative</td>\n",
       "      <td>[i, beg, to, move,, that, the, bill, be, now, ...</td>\n",
       "    </tr>\n",
       "    <tr>\n",
       "      <th>808787</th>\n",
       "      <td>2010-12-14a.874.0</td>\n",
       "      <td>2010-12-14</td>\n",
       "      <td>2010</td>\n",
       "      <td>Male</td>\n",
       "      <td>Labour</td>\n",
       "      <td>[i, simply, want, to, say, on, behalf, of, the...</td>\n",
       "    </tr>\n",
       "    <tr>\n",
       "      <th>808788</th>\n",
       "      <td>2010-12-14a.874.1</td>\n",
       "      <td>2010-12-14</td>\n",
       "      <td>2010</td>\n",
       "      <td>Male</td>\n",
       "      <td>Liberal Democrat</td>\n",
       "      <td>[i, have, spoken, on, a, number, of, issues, a...</td>\n",
       "    </tr>\n",
       "    <tr>\n",
       "      <th>808789</th>\n",
       "      <td>2010-12-14a.875.0</td>\n",
       "      <td>2010-12-14</td>\n",
       "      <td>2010</td>\n",
       "      <td>Male</td>\n",
       "      <td>Labour</td>\n",
       "      <td>[on, a, point, of, order,, mr, deputy, speaker...</td>\n",
       "    </tr>\n",
       "  </tbody>\n",
       "</table>\n",
       "<p>488135 rows × 6 columns</p>\n",
       "</div>"
      ],
      "text/plain": [
       "                       id speech_date  year gender                     party  \\\n",
       "3182      2001-01-15a.3.3  2001-01-15  2001   Male  Independent Conservative   \n",
       "3183      2001-01-15a.7.3  2001-01-15  2001   Male                    Labour   \n",
       "3185      2001-01-15a.7.7  2001-01-15  2001   Male                    Labour   \n",
       "3186     2001-01-15a.15.2  2001-01-15  2001   Male  Independent Conservative   \n",
       "3187     2001-01-15a.26.0  2001-01-15  2001   Male  Independent Conservative   \n",
       "...                   ...         ...   ...    ...                       ...   \n",
       "808784  2010-12-14a.871.0  2010-12-14  2010   Male                    Labour   \n",
       "808785  2010-12-14a.872.0  2010-12-14  2010   Male              Conservative   \n",
       "808787  2010-12-14a.874.0  2010-12-14  2010   Male                    Labour   \n",
       "808788  2010-12-14a.874.1  2010-12-14  2010   Male          Liberal Democrat   \n",
       "808789  2010-12-14a.875.0  2010-12-14  2010   Male                    Labour   \n",
       "\n",
       "                                         tokenized_speech  \n",
       "3182    [is, not, it, noteworthy, that, supporters, of...  \n",
       "3183    [may, i, take, the, opportunity, to, remove, a...  \n",
       "3185    [i, can, give, you, that, assurance, absolutel...  \n",
       "3186    [yesterday's, sunday, telegraph, reported, tha...  \n",
       "3187    [in, a, disaster, of, such, magnitude,, is, no...  \n",
       "...                                                   ...  \n",
       "808784  [i, think, i, will, take, that, as, a, sort, o...  \n",
       "808785  [i, beg, to, move,, that, the, bill, be, now, ...  \n",
       "808787  [i, simply, want, to, say, on, behalf, of, the...  \n",
       "808788  [i, have, spoken, on, a, number, of, issues, a...  \n",
       "808789  [on, a, point, of, order,, mr, deputy, speaker...  \n",
       "\n",
       "[488135 rows x 6 columns]"
      ]
     },
     "execution_count": 27,
     "metadata": {},
     "output_type": "execute_result"
    }
   ],
   "source": [
    "uk_speeches"
   ]
  },
  {
   "cell_type": "code",
   "execution_count": null,
   "id": "7904cd4d-4cc5-413d-8966-bcb3598080c6",
   "metadata": {},
   "outputs": [
    {
     "data": {
      "text/html": [
       "<div>\n",
       "<style scoped>\n",
       "    .dataframe tbody tr th:only-of-type {\n",
       "        vertical-align: middle;\n",
       "    }\n",
       "\n",
       "    .dataframe tbody tr th {\n",
       "        vertical-align: top;\n",
       "    }\n",
       "\n",
       "    .dataframe thead th {\n",
       "        text-align: right;\n",
       "    }\n",
       "</style>\n",
       "<table border=\"1\" class=\"dataframe\">\n",
       "  <thead>\n",
       "    <tr style=\"text-align: right;\">\n",
       "      <th></th>\n",
       "      <th>speakerid</th>\n",
       "      <th>speech_id</th>\n",
       "      <th>chamber</th>\n",
       "      <th>gender</th>\n",
       "      <th>party</th>\n",
       "      <th>congress</th>\n",
       "      <th>tokenized_speech</th>\n",
       "    </tr>\n",
       "  </thead>\n",
       "  <tbody>\n",
       "    <tr>\n",
       "      <th>0</th>\n",
       "      <td>107113420</td>\n",
       "      <td>1070000102</td>\n",
       "      <td>H</td>\n",
       "      <td>M</td>\n",
       "      <td>R</td>\n",
       "      <td>107</td>\n",
       "      <td>[mr., clerk., the, congress, and, the, nation,...</td>\n",
       "    </tr>\n",
       "    <tr>\n",
       "      <th>1</th>\n",
       "      <td>107113640</td>\n",
       "      <td>1070000104</td>\n",
       "      <td>H</td>\n",
       "      <td>M</td>\n",
       "      <td>D</td>\n",
       "      <td>107</td>\n",
       "      <td>[mr., clerk., as, chairman, of, the, democrati...</td>\n",
       "    </tr>\n",
       "    <tr>\n",
       "      <th>2</th>\n",
       "      <td>107113650</td>\n",
       "      <td>1070000110</td>\n",
       "      <td>H</td>\n",
       "      <td>M</td>\n",
       "      <td>D</td>\n",
       "      <td>107</td>\n",
       "      <td>[members, of, the, house., families, of, house...</td>\n",
       "    </tr>\n",
       "  </tbody>\n",
       "</table>\n",
       "</div>"
      ],
      "text/plain": [
       "   speakerid   speech_id chamber gender party  congress  \\\n",
       "0  107113420  1070000102       H      M     R       107   \n",
       "1  107113640  1070000104       H      M     D       107   \n",
       "2  107113650  1070000110       H      M     D       107   \n",
       "\n",
       "                                    tokenized_speech  \n",
       "0  [mr., clerk., the, congress, and, the, nation,...  \n",
       "1  [mr., clerk., as, chairman, of, the, democrati...  \n",
       "2  [members, of, the, house., families, of, house...  "
      ]
     },
     "execution_count": 58,
     "metadata": {},
     "output_type": "execute_result"
    }
   ],
   "source": [
    "us_speeches.head (3)"
   ]
  },
  {
   "cell_type": "code",
   "execution_count": null,
   "id": "0e765724-52ea-438d-bece-b718126aef11",
   "metadata": {},
   "outputs": [
    {
     "data": {
      "text/html": [
       "<div>\n",
       "<style scoped>\n",
       "    .dataframe tbody tr th:only-of-type {\n",
       "        vertical-align: middle;\n",
       "    }\n",
       "\n",
       "    .dataframe tbody tr th {\n",
       "        vertical-align: top;\n",
       "    }\n",
       "\n",
       "    .dataframe thead th {\n",
       "        text-align: right;\n",
       "    }\n",
       "</style>\n",
       "<table border=\"1\" class=\"dataframe\">\n",
       "  <thead>\n",
       "    <tr style=\"text-align: right;\">\n",
       "      <th></th>\n",
       "      <th>id</th>\n",
       "      <th>speech_date</th>\n",
       "      <th>year</th>\n",
       "      <th>gender</th>\n",
       "      <th>party</th>\n",
       "      <th>tokenized_speech</th>\n",
       "    </tr>\n",
       "  </thead>\n",
       "  <tbody>\n",
       "    <tr>\n",
       "      <th>3182</th>\n",
       "      <td>2001-01-15a.3.3</td>\n",
       "      <td>2001-01-15</td>\n",
       "      <td>2001</td>\n",
       "      <td>Male</td>\n",
       "      <td>Independent Conservative</td>\n",
       "      <td>[is, not, it, noteworthy, that, supporters, of...</td>\n",
       "    </tr>\n",
       "    <tr>\n",
       "      <th>3183</th>\n",
       "      <td>2001-01-15a.7.3</td>\n",
       "      <td>2001-01-15</td>\n",
       "      <td>2001</td>\n",
       "      <td>Male</td>\n",
       "      <td>Labour</td>\n",
       "      <td>[may, i, take, the, opportunity, to, remove, a...</td>\n",
       "    </tr>\n",
       "    <tr>\n",
       "      <th>3185</th>\n",
       "      <td>2001-01-15a.7.7</td>\n",
       "      <td>2001-01-15</td>\n",
       "      <td>2001</td>\n",
       "      <td>Male</td>\n",
       "      <td>Labour</td>\n",
       "      <td>[i, can, give, you, that, assurance, absolutel...</td>\n",
       "    </tr>\n",
       "  </tbody>\n",
       "</table>\n",
       "</div>"
      ],
      "text/plain": [
       "                   id speech_date  year gender                     party  \\\n",
       "3182  2001-01-15a.3.3  2001-01-15  2001   Male  Independent Conservative   \n",
       "3183  2001-01-15a.7.3  2001-01-15  2001   Male                    Labour   \n",
       "3185  2001-01-15a.7.7  2001-01-15  2001   Male                    Labour   \n",
       "\n",
       "                                       tokenized_speech  \n",
       "3182  [is, not, it, noteworthy, that, supporters, of...  \n",
       "3183  [may, i, take, the, opportunity, to, remove, a...  \n",
       "3185  [i, can, give, you, that, assurance, absolutel...  "
      ]
     },
     "execution_count": 59,
     "metadata": {},
     "output_type": "execute_result"
    }
   ],
   "source": [
    "uk_speeches.head (3)"
   ]
  },
  {
   "cell_type": "markdown",
   "id": "396f8cbf-6a25-4de1-a12d-a9da8b1b7da1",
   "metadata": {},
   "source": [
    "# 2. Stylistic Variation"
   ]
  },
  {
   "cell_type": "markdown",
   "id": "52c804f7-08b2-49aa-98bd-c0adea4b6625",
   "metadata": {},
   "source": [
    "Let's implement the `meanWordChars` metric, which is supposed to calculate the average length of a word in the corpus. Following is a simple, self-explanatory function to calculate the average length of a token in a given corpus. I'm using the cell magic `timeit` to log the execution time."
   ]
  },
  {
   "cell_type": "code",
   "execution_count": 33,
   "id": "cf90e926-4787-4b4a-bab6-de0b916c9487",
   "metadata": {},
   "outputs": [
    {
     "name": "stdout",
     "output_type": "stream",
     "text": [
      "4.808280087616606\n",
      "4.808280087616606\n",
      "4.808280087616606\n",
      "9.07 s ± 2.73 s per loop (mean ± std. dev. of 3 runs, 1 loop each)\n"
     ]
    }
   ],
   "source": [
    "%%timeit -n 1 -r 3\n",
    "def slowest_meanWordChars (speeches):\n",
    "  \"\"\" Function calculates the average number of characters per word.\n",
    "\n",
    "  This is the most basic and inefficient implementation of meanWordChars,\n",
    "  since it is using two for loops and not vectorization.\n",
    "\n",
    "  params\n",
    "  :speeches: iterable\n",
    "\n",
    "  returns\n",
    "  :avg_chars: float\n",
    "  \"\"\"\n",
    "  num_chars = 0\n",
    "  num_words = 0\n",
    "  for speech in speeches['tokenized_speech']:\n",
    "    for token in speech:\n",
    "      num_chars += len(token)\n",
    "      num_words += 1\n",
    "  return num_chars / num_words\n",
    "\n",
    "# Basic implementation of meanWordChars\n",
    "print (slowest_meanWordChars (us_speeches))"
   ]
  },
  {
   "cell_type": "markdown",
   "id": "47cff72f-8ff6-4c45-8e13-1688cac86750",
   "metadata": {},
   "source": [
    "The above code takes approximately 2.6secs to calculate this metric on the full US speeches corpus. Not great! 😌 \n",
    "\n",
    "Though this code is easy to write, we can't afford slow computation on one metric because:\n",
    "\n",
    "- (a) we'll recalculate the metric repeatedly in bootstrapped samples\n",
    "- (b) there are other metrics we want to calculate as well.\n",
    "\n",
    "The slow runtime of this function is because of the use of for loops which don't leverage [vectorization](https://pythonspeed.com/articles/pandas-vectorization/). See the following function to understand what I mean. I use the `pandas.apply` function to instruct pandas to repeat an operation on each row. Please see the code explanation in the comments within the function."
   ]
  },
  {
   "cell_type": "code",
   "execution_count": null,
   "id": "8ccb0dd5-34c6-43c3-9ce9-bd41eef4c558",
   "metadata": {},
   "outputs": [
    {
     "name": "stdout",
     "output_type": "stream",
     "text": [
      "4.808280087616606\n",
      "4.808280087616606\n",
      "4.808280087616606\n",
      "1.7 s ± 3.16 ms per loop (mean ± std. dev. of 3 runs, 1 loop each)\n"
     ]
    }
   ],
   "source": [
    "%%timeit -n 1 -r 3\n",
    "def slow_meanWordChars (speeches):\n",
    "  \"\"\" Function calculates the average number of characters per word.\n",
    "\n",
    "  This is the second most inefficient implementation of meanWordChars.\n",
    "  It's using vectorization but still computing everything from the\n",
    "  tokenized_speech column.\n",
    "\n",
    "  params\n",
    "  :speeches: iterable\n",
    "\n",
    "  returns\n",
    "  :avg_chars: float\n",
    "  \"\"\"\n",
    "  # Code Explanation:\n",
    "  #   `speeches['tokenized_speech'].apply (lambda x: len (''.join(x)))`\n",
    "  #    creates a vector of character counts for every speech\n",
    "  #   `speeches['tokenized_speech'].apply (lambda x: len (x)).sum()`\n",
    "  #    creates a vector of token counts for every speech\n",
    "  #    `.sum()` gets the sum of all values in a the vector\n",
    "  #    `/` operator does elementwise division of two vectors\n",
    "\n",
    "  avg_chars = speeches['tokenized_speech'].apply (lambda x: len (''.join(x))).sum() / speeches['tokenized_speech'].apply (lambda x: len (x)).sum()\n",
    "  return avg_chars\n",
    "\n",
    "# Vectorized implementation of meanWordChars\n",
    "print (slow_meanWordChars (us_speeches))"
   ]
  },
  {
   "cell_type": "markdown",
   "id": "20d306ea-3465-4ab2-b9fc-0862e533fd27",
   "metadata": {},
   "source": [
    "Nice! 👍  \n",
    "\n",
    "Our code executes in 1.6 seconds i.e. we have cut the runtime by one third and we still produce the same answer. \n",
    "\n",
    "Can we do even better?\n",
    "\n",
    "Yes! We can. Further improvement in time will, however, come at a cost. \n",
    "\n",
    "The key observation is that the above function ends up repeating the computation for tokens that it has already seen before. But if we know all the words that ever appear in the corpus, then we can calculate their lengths in one go and store them for further retrieval. More specifically, we'll start by writing a function to construct a vocabulary from a given corpus. \n",
    "\n",
    "Vocabulary is going to be a python dictionary. Key in the vocabulary is going to be a word and the corresponding value is the number of times the word appears in the input corpus."
   ]
  },
  {
   "cell_type": "code",
   "execution_count": null,
   "id": "76b2169b-68a8-4e6b-bda3-33d32e959a4b",
   "metadata": {},
   "outputs": [],
   "source": [
    "def construct_vocab (df):\n",
    "  \"\"\" Function constructs a vocabulary from the tokenized speech column of the dataframe\n",
    "\n",
    "  params\n",
    "  :df (pd.DataFrame): dataframe with a tokenized_speech column\n",
    "\n",
    "  returns\n",
    "  :vocab (dict): keys are the word types and values are the number of times they\n",
    "          appear in the corpus\n",
    "  \"\"\"\n",
    "\n",
    "  vocab = dict ()\n",
    "  for speech in df['tokenized_speech']:\n",
    "    for token in speech:\n",
    "      if token in vocab:\n",
    "        vocab[token] += 1\n",
    "      else:\n",
    "        vocab[token] = 1\n",
    "  return vocab"
   ]
  },
  {
   "cell_type": "markdown",
   "id": "38de63bb-be4d-4e83-8ee8-3ddd462fbed3",
   "metadata": {},
   "source": [
    "Next, we will also write functions to create dictionaries to track character counts and syllable counts. We can then use lookup operation to retrieve the length of a word in terms of characters or syllables using the appropriate dictionaries."
   ]
  },
  {
   "cell_type": "code",
   "execution_count": null,
   "id": "ea284f35-1864-4e40-8072-dd03200c5585",
   "metadata": {},
   "outputs": [],
   "source": [
    "def construct_char_count (vocab):\n",
    "  \"\"\" Function constructs a dictionary mapping every word to its character count\n",
    "  in the corpus\n",
    "\n",
    "  params\n",
    "  :vocab (dict): keys are the word types and values are the number of times they\n",
    "          appear in the corpus\n",
    "\n",
    "  returns\n",
    "  :char_count (dict): keys are the word types and values are the number of\n",
    "          characters in the word\n",
    "  \"\"\"\n",
    "  char_count = dict ()\n",
    "  for word in vocab:\n",
    "    char_count[word] = len(word)\n",
    "  return char_count\n",
    "\n",
    "def construct_syllable_count (vocab, syllable_counter):\n",
    "  \"\"\" Function constructs a dictionary mapping every word to its syllable count\n",
    "  in the corpus\n",
    "\n",
    "  params\n",
    "  :vocab (dict): keys are the word types and values are the number of times they\n",
    "          appear in the corpus\n",
    "  :syllable_counter (pyphen.Pyphen): syllable counter object\n",
    "\n",
    "  returns\n",
    "  :syllables_count (dict): keys are the word types and values are the number of\n",
    "          syllables in the word\n",
    "  \"\"\"\n",
    "  syllables_count = dict ()\n",
    "  for word in vocab:\n",
    "    syllables_count[word] = len(syllable_counter.inserted(word).split('-'))\n",
    "  return syllables_count"
   ]
  },
  {
   "cell_type": "markdown",
   "id": "c890e6c1-a459-4296-b0aa-4600b8e7cf92",
   "metadata": {},
   "source": [
    "Finally, using the above functions, we can **precompute** the word lengths for every speech in a corpus as below."
   ]
  },
  {
   "cell_type": "code",
   "execution_count": null,
   "id": "d342b06d-8c69-4cf9-a8ea-9b173aabbd64",
   "metadata": {},
   "outputs": [],
   "source": [
    "# Construct the vocabulary for the two corpora\n",
    "us_vocab = construct_vocab (us_speeches)\n",
    "uk_vocab = construct_vocab (uk_speeches)\n",
    "\n",
    "# Keep the mappings of word to character count\n",
    "us_char_count = construct_char_count (us_vocab)\n",
    "uk_char_count = construct_char_count (uk_vocab)\n",
    "\n",
    "# Keep the mapppings of word to syllables count\n",
    "us_syllables_count = construct_syllable_count (us_vocab, dic_us)\n",
    "uk_syllables_count = construct_syllable_count (uk_vocab, dic_uk)\n",
    "\n",
    "# Now add columns in the dataframe that will store the character and syllable counts per speech\n",
    "us_speeches[\"char_counts\"] = us_speeches[\"tokenized_speech\"].apply (lambda x: [us_char_count[token] for token in x])\n",
    "us_speeches[\"syllable_counts\"] = us_speeches[\"tokenized_speech\"].apply (lambda x: [us_syllables_count[token] for token in x])\n",
    "\n",
    "uk_speeches[\"char_counts\"] = uk_speeches[\"tokenized_speech\"].apply (lambda x: [uk_char_count[token] for token in x])\n",
    "uk_speeches[\"syllable_counts\"] = uk_speeches[\"tokenized_speech\"].apply (lambda x: [uk_syllables_count[token] for token in x])"
   ]
  },
  {
   "cell_type": "markdown",
   "id": "2cfc2b5f-b3af-4e4b-83a3-8d5ee46213ad",
   "metadata": {},
   "source": [
    "The first few rows of both the datasets now look as below."
   ]
  },
  {
   "cell_type": "code",
   "execution_count": null,
   "id": "a052c133-da76-44f8-bc00-a777957c14eb",
   "metadata": {},
   "outputs": [
    {
     "data": {
      "text/html": [
       "<div>\n",
       "<style scoped>\n",
       "    .dataframe tbody tr th:only-of-type {\n",
       "        vertical-align: middle;\n",
       "    }\n",
       "\n",
       "    .dataframe tbody tr th {\n",
       "        vertical-align: top;\n",
       "    }\n",
       "\n",
       "    .dataframe thead th {\n",
       "        text-align: right;\n",
       "    }\n",
       "</style>\n",
       "<table border=\"1\" class=\"dataframe\">\n",
       "  <thead>\n",
       "    <tr style=\"text-align: right;\">\n",
       "      <th></th>\n",
       "      <th>speakerid</th>\n",
       "      <th>speech_id</th>\n",
       "      <th>chamber</th>\n",
       "      <th>gender</th>\n",
       "      <th>party</th>\n",
       "      <th>congress</th>\n",
       "      <th>tokenized_speech</th>\n",
       "      <th>char_counts</th>\n",
       "      <th>syllable_counts</th>\n",
       "    </tr>\n",
       "  </thead>\n",
       "  <tbody>\n",
       "    <tr>\n",
       "      <th>0</th>\n",
       "      <td>107113420</td>\n",
       "      <td>1070000102</td>\n",
       "      <td>H</td>\n",
       "      <td>M</td>\n",
       "      <td>R</td>\n",
       "      <td>107</td>\n",
       "      <td>[mr., clerk., the, congress, and, the, nation,...</td>\n",
       "      <td>[3, 6, 3, 8, 3, 3, 6, 4, 4, 7, 5, 4, 1, 5, 2, ...</td>\n",
       "      <td>[1, 1, 1, 2, 1, 1, 2, 1, 1, 1, 1, 1, 1, 1, 1, ...</td>\n",
       "    </tr>\n",
       "    <tr>\n",
       "      <th>1</th>\n",
       "      <td>107113640</td>\n",
       "      <td>1070000104</td>\n",
       "      <td>H</td>\n",
       "      <td>M</td>\n",
       "      <td>D</td>\n",
       "      <td>107</td>\n",
       "      <td>[mr., clerk., as, chairman, of, the, democrati...</td>\n",
       "      <td>[3, 6, 2, 8, 2, 3, 10, 7, 1, 2, 8, 2, 3, 9, 4,...</td>\n",
       "      <td>[1, 1, 1, 2, 1, 1, 3, 2, 1, 1, 3, 1, 1, 3, 1, ...</td>\n",
       "    </tr>\n",
       "    <tr>\n",
       "      <th>2</th>\n",
       "      <td>107113650</td>\n",
       "      <td>1070000110</td>\n",
       "      <td>H</td>\n",
       "      <td>M</td>\n",
       "      <td>D</td>\n",
       "      <td>107</td>\n",
       "      <td>[members, of, the, house., families, of, house...</td>\n",
       "      <td>[7, 2, 3, 6, 8, 2, 5, 8, 7, 7, 6, 3, 10, 6, 1,...</td>\n",
       "      <td>[2, 1, 1, 1, 3, 1, 1, 3, 2, 2, 1, 1, 3, 1, 1, ...</td>\n",
       "    </tr>\n",
       "  </tbody>\n",
       "</table>\n",
       "</div>"
      ],
      "text/plain": [
       "   speakerid   speech_id chamber gender party  congress  \\\n",
       "0  107113420  1070000102       H      M     R       107   \n",
       "1  107113640  1070000104       H      M     D       107   \n",
       "2  107113650  1070000110       H      M     D       107   \n",
       "\n",
       "                                    tokenized_speech  \\\n",
       "0  [mr., clerk., the, congress, and, the, nation,...   \n",
       "1  [mr., clerk., as, chairman, of, the, democrati...   \n",
       "2  [members, of, the, house., families, of, house...   \n",
       "\n",
       "                                         char_counts  \\\n",
       "0  [3, 6, 3, 8, 3, 3, 6, 4, 4, 7, 5, 4, 1, 5, 2, ...   \n",
       "1  [3, 6, 2, 8, 2, 3, 10, 7, 1, 2, 8, 2, 3, 9, 4,...   \n",
       "2  [7, 2, 3, 6, 8, 2, 5, 8, 7, 7, 6, 3, 10, 6, 1,...   \n",
       "\n",
       "                                     syllable_counts  \n",
       "0  [1, 1, 1, 2, 1, 1, 2, 1, 1, 1, 1, 1, 1, 1, 1, ...  \n",
       "1  [1, 1, 1, 2, 1, 1, 3, 2, 1, 1, 3, 1, 1, 3, 1, ...  \n",
       "2  [2, 1, 1, 1, 3, 1, 1, 3, 2, 2, 1, 1, 3, 1, 1, ...  "
      ]
     },
     "execution_count": 65,
     "metadata": {},
     "output_type": "execute_result"
    }
   ],
   "source": [
    "us_speeches.head (3)"
   ]
  },
  {
   "cell_type": "code",
   "execution_count": null,
   "id": "deac3406-6e0a-44cf-8020-ffeb0ba8bae5",
   "metadata": {},
   "outputs": [
    {
     "data": {
      "text/html": [
       "<div>\n",
       "<style scoped>\n",
       "    .dataframe tbody tr th:only-of-type {\n",
       "        vertical-align: middle;\n",
       "    }\n",
       "\n",
       "    .dataframe tbody tr th {\n",
       "        vertical-align: top;\n",
       "    }\n",
       "\n",
       "    .dataframe thead th {\n",
       "        text-align: right;\n",
       "    }\n",
       "</style>\n",
       "<table border=\"1\" class=\"dataframe\">\n",
       "  <thead>\n",
       "    <tr style=\"text-align: right;\">\n",
       "      <th></th>\n",
       "      <th>id</th>\n",
       "      <th>speech_date</th>\n",
       "      <th>year</th>\n",
       "      <th>gender</th>\n",
       "      <th>party</th>\n",
       "      <th>tokenized_speech</th>\n",
       "      <th>char_counts</th>\n",
       "      <th>syllable_counts</th>\n",
       "    </tr>\n",
       "  </thead>\n",
       "  <tbody>\n",
       "    <tr>\n",
       "      <th>3182</th>\n",
       "      <td>2001-01-15a.3.3</td>\n",
       "      <td>2001-01-15</td>\n",
       "      <td>2001</td>\n",
       "      <td>Male</td>\n",
       "      <td>Independent Conservative</td>\n",
       "      <td>[is, not, it, noteworthy, that, supporters, of...</td>\n",
       "      <td>[2, 3, 2, 10, 4, 10, 2, 3, 8, 3, 7, 12, 3, 8, ...</td>\n",
       "      <td>[1, 1, 1, 2, 1, 3, 1, 1, 2, 1, 3, 3, 1, 2, 1, ...</td>\n",
       "    </tr>\n",
       "    <tr>\n",
       "      <th>3183</th>\n",
       "      <td>2001-01-15a.7.3</td>\n",
       "      <td>2001-01-15</td>\n",
       "      <td>2001</td>\n",
       "      <td>Male</td>\n",
       "      <td>Labour</td>\n",
       "      <td>[may, i, take, the, opportunity, to, remove, a...</td>\n",
       "      <td>[3, 1, 4, 3, 11, 2, 6, 3, 9, 2, 3, 7, 2, 5, 2,...</td>\n",
       "      <td>[1, 1, 1, 1, 4, 1, 2, 1, 4, 1, 1, 2, 1, 1, 1, ...</td>\n",
       "    </tr>\n",
       "    <tr>\n",
       "      <th>3185</th>\n",
       "      <td>2001-01-15a.7.7</td>\n",
       "      <td>2001-01-15</td>\n",
       "      <td>2001</td>\n",
       "      <td>Male</td>\n",
       "      <td>Labour</td>\n",
       "      <td>[i, can, give, you, that, assurance, absolutel...</td>\n",
       "      <td>[1, 3, 4, 3, 4, 9, 11, 3, 8, 1, 4, 4, 2, 10, 5...</td>\n",
       "      <td>[1, 1, 1, 1, 1, 3, 3, 1, 2, 1, 1, 1, 1, 3, 1, ...</td>\n",
       "    </tr>\n",
       "  </tbody>\n",
       "</table>\n",
       "</div>"
      ],
      "text/plain": [
       "                   id speech_date  year gender                     party  \\\n",
       "3182  2001-01-15a.3.3  2001-01-15  2001   Male  Independent Conservative   \n",
       "3183  2001-01-15a.7.3  2001-01-15  2001   Male                    Labour   \n",
       "3185  2001-01-15a.7.7  2001-01-15  2001   Male                    Labour   \n",
       "\n",
       "                                       tokenized_speech  \\\n",
       "3182  [is, not, it, noteworthy, that, supporters, of...   \n",
       "3183  [may, i, take, the, opportunity, to, remove, a...   \n",
       "3185  [i, can, give, you, that, assurance, absolutel...   \n",
       "\n",
       "                                            char_counts  \\\n",
       "3182  [2, 3, 2, 10, 4, 10, 2, 3, 8, 3, 7, 12, 3, 8, ...   \n",
       "3183  [3, 1, 4, 3, 11, 2, 6, 3, 9, 2, 3, 7, 2, 5, 2,...   \n",
       "3185  [1, 3, 4, 3, 4, 9, 11, 3, 8, 1, 4, 4, 2, 10, 5...   \n",
       "\n",
       "                                        syllable_counts  \n",
       "3182  [1, 1, 1, 2, 1, 3, 1, 1, 2, 1, 3, 3, 1, 2, 1, ...  \n",
       "3183  [1, 1, 1, 1, 4, 1, 2, 1, 4, 1, 1, 2, 1, 1, 1, ...  \n",
       "3185  [1, 1, 1, 1, 1, 3, 3, 1, 2, 1, 1, 1, 1, 3, 1, ...  "
      ]
     },
     "execution_count": 66,
     "metadata": {},
     "output_type": "execute_result"
    }
   ],
   "source": [
    "uk_speeches.head (3)"
   ]
  },
  {
   "cell_type": "markdown",
   "id": "409d27b8-89f7-4a71-8378-f0fdb5de3f58",
   "metadata": {},
   "source": [
    "Constructing these augmented dataframes takes a minute or two. \n",
    "\n",
    "That may seem like a useless overhead but the key is that we now have precomputed everything that will turn _all_ our metric calculations into simple counting exercises. Notice the `char_counts` and `syllable_counts` column. Every metric calculation for a given dataset can now be made dependent on its vocabulary and the `char_counts` and `syllable_counts` column of the dataset's dataframe. Let me show you how we can redo our `meanWordChars`."
   ]
  },
  {
   "cell_type": "code",
   "execution_count": null,
   "id": "1c76c02c-4d81-4fe2-b98b-2ba77f55cfd0",
   "metadata": {},
   "outputs": [
    {
     "name": "stdout",
     "output_type": "stream",
     "text": [
      "4.808280087616606\n",
      "4.808280087616606\n",
      "4.808280087616606\n",
      "336 ms ± 2.09 ms per loop (mean ± std. dev. of 3 runs, 1 loop each)\n"
     ]
    }
   ],
   "source": [
    "%%timeit -n 1 -r 3\n",
    "def fast_meanWordChars (speeches):\n",
    "  \"\"\" Function calculates the average number of characters per word.\n",
    "\n",
    "  This is an efficient implementation of meanWordChars. It's using vectorization\n",
    "  and not using the tokenized_speech column to construct the long string for\n",
    "  each speech; instead, it's using the precomputed char_counts column.\n",
    "\n",
    "  params\n",
    "  :speeches: iterable\n",
    "\n",
    "  returns\n",
    "  :avg_chars: float\n",
    "  \"\"\"\n",
    "  avg_chars = speeches['char_counts'].apply (lambda x: sum(x)).sum() / speeches['char_counts'].apply (lambda x: len (x)).sum()\n",
    "  return avg_chars\n",
    "\n",
    "# Vectorized implementation of meanWordChars\n",
    "print (fast_meanWordChars (us_speeches))"
   ]
  },
  {
   "cell_type": "markdown",
   "id": "3c07bc82-b922-4cbe-bbb1-067727ec4f0b",
   "metadata": {},
   "source": [
    "Bingo! Almost 5 times faster than even the vectorized code that we had before. AND! 17 times faster than the naive implementation 👊\n",
    "\n",
    "To give some context on how this is useful, if we call the naive function on the full US dataset inside a bootstrapping loop that repeats 100 times, we would have taken approx. 30 mins to get just this one metric. With the fast implemention, however, we can do 100 repetitions in less than 2 mins!!!\n",
    "\n",
    "To recap, the ideas we used were vectorization instead of for loops and precomputing core quantities instead of repeating their computation. Even if you use one of these ideas, you'll save on a considerable amount of time in practical projects."
   ]
  },
  {
   "cell_type": "markdown",
   "id": "fc38c020-1ac6-488e-9239-2cc9a366404d",
   "metadata": {},
   "source": [
    "**Important Notes**\n",
    "\n",
    "1. If you didn't know vectorization or didn't think it would be useful to create those precomputed columns, you could still get considerable speedup by letting the naive function have access to the mapping dictionaries that we created earlier; that is, `us_char_count`, `us_syllables_count`, `uk_char_count`, and `uk_syllables_count`. The key insight is that the number of characters or syllables in a word should be calculated just once and subsequently looked up as needed.\n",
    "\n",
    "2. Our time saving came at the cost of increased memory to store the different dictionaries and precomputed pandas columns. For this problem set, this cost was negligible but in general it's important to balance this tradeoff."
   ]
  },
  {
   "cell_type": "markdown",
   "id": "6d06bf45-0e66-427a-ac65-907dfa706195",
   "metadata": {},
   "source": [
    "With all that covered, you are ready to implement all the metrics. For the Grieve metrics, I have supplied an auxiliary function that creates a vocab_counts dictionary below which you can use in your calculations as needed.\n",
    "\n",
    "The `vocab_counts` dictionary contains wordcounts as keys and number of words with that wordcount as values. For example, if there are 50 words in the vocabulary that appear in the corpus exactly once, then `vocab_counts[1] = 50`; if 20 words in the vocabulary appear in the corpus exactly twice, then `vocab_counts[2]=20`; and so on. "
   ]
  },
  {
   "cell_type": "code",
   "execution_count": null,
   "id": "e7e2bdc6-1462-4579-af58-b0ecbebefeb8",
   "metadata": {},
   "outputs": [],
   "source": [
    "def construct_vocab_counts (vocab):\n",
    "  \"\"\" Function constructs a dictionary mapping every count to the number of words\n",
    "  in the corpus with that count\n",
    "\n",
    "  params\n",
    "  :vocab (dict): keys are the word types and values are the number of times they\n",
    "          appear in the corpus\n",
    "  returns (dict): keys are the word counts and values are the number of words\n",
    "          with that count\n",
    "  \"\"\"\n",
    "  vocab_counts = defaultdict(int) # defaultdict initializes every key to have a zero count\n",
    "  for count in vocab.values():\n",
    "    vocab_counts[count] += 1\n",
    "  return vocab_counts"
   ]
  },
  {
   "cell_type": "code",
   "execution_count": null,
   "id": "14dbf778-17ee-42d5-b4dc-fa43139828fb",
   "metadata": {},
   "outputs": [],
   "source": [
    "def meanWordSyllables (speeches):\n",
    "  \"\"\" Function calculates the average number of syllables per word\n",
    "\n",
    "  params\n",
    "  :speeches: iterable\n",
    "\n",
    "  returns\n",
    "  :avg_syllables: float\n",
    "  \"\"\"\n",
    "  # Write your code below.\n",
    "\n",
    "  avg_syllables= speeches['syllable_counts'].apply (lambda x: sum(x)).sum() / speeches['syllable_counts'].apply (lambda x: len (x)).sum()\n",
    "    \n",
    "  return avg_syllables"
   ]
  },
  {
   "cell_type": "code",
   "execution_count": null,
   "id": "3afe6dec-6db6-492f-b960-4b0e03e395ab",
   "metadata": {},
   "outputs": [
    {
     "name": "stdout",
     "output_type": "stream",
     "text": [
      "1.4994977637315727\n"
     ]
    }
   ],
   "source": [
    "result = meanWordSyllables(us_speeches)\n",
    "print(result)"
   ]
  },
  {
   "cell_type": "code",
   "execution_count": null,
   "id": "8710d92a-b91b-473c-945e-80a352801cab",
   "metadata": {},
   "outputs": [],
   "source": [
    "def WxC (speeches, length=7):\n",
    "  \"\"\" Function calculates the number of words whose length in terms of number of\n",
    "      characters is equal to or exceeds the given length\n",
    "\n",
    "  params\n",
    "  :speeches: iterable\n",
    "  :length: int\n",
    "\n",
    "  returns\n",
    "  :wc_x: int\n",
    "  \"\"\"\n",
    "  # Write your code below.\n",
    "  wc_x = speeches['char_counts'].apply (lambda x: sum(1 for char in x if char>=length)).sum() \n",
    "    \n",
    "  return wc_x"
   ]
  },
  {
   "cell_type": "code",
   "execution_count": null,
   "id": "d3e952b1-f4d3-4ab0-82bf-4b8a41f0eb02",
   "metadata": {},
   "outputs": [
    {
     "data": {
      "text/plain": [
       "18219542"
      ]
     },
     "execution_count": 72,
     "metadata": {},
     "output_type": "execute_result"
    }
   ],
   "source": [
    "result = WxC(us_speeches)\n",
    "result"
   ]
  },
  {
   "cell_type": "code",
   "execution_count": null,
   "id": "03e5881b-b0f4-41ca-89d4-47edc76f2ac7",
   "metadata": {},
   "outputs": [],
   "source": [
    "\n",
    "def WxSy (speeches, length=3):\n",
    "  \"\"\" Function calculates the number of words whose length in terms of number of\n",
    "      syllables is equal to or exceeds the given length\n",
    "\n",
    "  params\n",
    "  :speeches: iterable\n",
    "  :length: int\n",
    "\n",
    "  returns\n",
    "  :wx_sy: int\n",
    "  \"\"\"\n",
    "  # Write your code below.\n",
    "  wx_sy = speeches['syllable_counts'].apply (lambda x: sum(1 for syllable in x if syllable>=length)).sum()\n",
    "    \n",
    "  return wx_sy"
   ]
  },
  {
   "cell_type": "code",
   "execution_count": null,
   "id": "47c19493-3ab1-4f1e-98ed-5c2068445a43",
   "metadata": {},
   "outputs": [],
   "source": [
    "def meanWordChars (speeches):\n",
    "  \"\"\" Function calculates the average number of characters per word\n",
    "\n",
    "  params\n",
    "  :speeches: iterable\n",
    "\n",
    "  returns\n",
    "  :avg_chars: float\n",
    "  \"\"\"\n",
    "  avg_chars = speeches['char_counts'].apply (lambda x: sum(x)).sum() / speeches['char_counts'].apply (lambda x: len (x)).sum()\n",
    "  return avg_chars"
   ]
  },
  {
   "cell_type": "code",
   "execution_count": null,
   "id": "428bb7a1-e7c2-4000-8418-f44151a6768f",
   "metadata": {},
   "outputs": [],
   "source": [
    "def WitSy (speeches, length=3):\n",
    "  \"\"\" Function calculates the number of words whose length in terms of number of\n",
    "      syllables is strictly less than the given length\n",
    "\n",
    "  params\n",
    "  :speeches: iterable\n",
    "  :length: int\n",
    "\n",
    "  returns\n",
    "  :wit_sy: int\n",
    "  \"\"\"\n",
    "  # Write your code below.\n",
    "  wit_sy = speeches['syllable_counts'].apply (lambda x: sum(1 for syllable in x if syllable<length)).sum()\n",
    "    \n",
    "  return wit_sy"
   ]
  },
  {
   "cell_type": "code",
   "execution_count": null,
   "id": "3c63c021-57d9-4aca-943c-fc00d700ce87",
   "metadata": {},
   "outputs": [],
   "source": [
    "def WeqSy (speeches, length=2):\n",
    "  \"\"\" Function calculates the number of words whose length in terms of number of\n",
    "      syllables is equal to the given length\n",
    "\n",
    "  params\n",
    "  :speeches: iterable\n",
    "  :length: int\n",
    "  returns\n",
    "  :weq_sy: int\n",
    "  \"\"\"\n",
    "  # Write your code below.\n",
    "  weq_sy = speeches['syllable_counts'].apply (lambda x: sum(1 for syllable in x if syllable==length)).sum()\n",
    "  return weq_sy"
   ]
  },
  {
   "cell_type": "code",
   "execution_count": null,
   "id": "202228af-1aff-4a71-b8e7-fe29788e1963",
   "metadata": {},
   "outputs": [],
   "source": [
    "def Grieve_metrics (vocab, \n",
    "                    corpus_length, \n",
    "                    vocab_counts, \n",
    "                    a=100, \n",
    "                    metric_type=\"type-token\"):\n",
    "  \"\"\" Function calculates any of the Grieve metrics from the vocabulary constructed\n",
    "  from the corpus\n",
    "\n",
    "  params\n",
    "  :vocab: dict; keys are the word types and values are the number of times they\n",
    "          appear in the corpus\n",
    "  :corpus_length: int; number of tokens in the entire corpus\n",
    "  :vocab_counts: dict; keys are the word counts and values are the number of words\n",
    "          with that count\n",
    "  :a: float; arbitrary constant that's usually set to a value comparable to |V|\n",
    "  :metric_type: str (default: \"type-token\"); specify the type of metric to calculate\n",
    "\n",
    "  The metric type could be one of the following:\n",
    "  {\"type-token\", \"K\", \"R\", \"C\", \"H\", \"S\", \"k\", \"LN\", \"entropy\", \"W\"}\n",
    "\n",
    "  Refer to https://lirias.kuleuven.be/retrieve/171181\n",
    "\n",
    "  returns\n",
    "  :grieve_type2token: float\n",
    "  \"\"\"\n",
    "  V = len(vocab)\n",
    "  N = corpus_length\n",
    "\n",
    "  match metric_type:\n",
    "    case \"type-token\":\n",
    "      # Write your code below\n",
    "        ttratio = V/N\n",
    "        return ttratio\n",
    "        \n",
    "    case \"K\":\n",
    "      # Write your code below 104(i2Vi - N)/N2\n",
    "        i2vi=0\n",
    "        for i in vocab_counts.keys():\n",
    "            i2vi += (i**2)*vocab_counts[i]\n",
    "        K= (10**4)*(i2vi-N)/(N**2)\n",
    "        return K\n",
    "\n",
    "    case \"R\":\n",
    "      # Write your code below \n",
    "         R = V/math.sqrt(N)\n",
    "         return R\n",
    "          \n",
    "    case \"C\":\n",
    "      # Write your code below\n",
    "         C = math.log(V)/math.log(N)\n",
    "         return C\n",
    "      \n",
    "    case \"H\":\n",
    "      # Write your code below (100 logN)/(1-V1/V)\n",
    "        v1 = vocab_counts[1]; #words appear 1 time\n",
    "        H = (100*math.log(N))/(1-v1/V)\n",
    "        return H\n",
    "      \n",
    "    case \"S\":\n",
    "      # Write your code below\n",
    "        v2 = vocab_counts[2];\n",
    "        S = v2/V\n",
    "        return S\n",
    "        \n",
    "    case \"k\":\n",
    "      # Write your code below logV/log(logN)\n",
    "        k = math.log(V)/math.log(math.log(N))\n",
    "        return k\n",
    "        \n",
    "    case \"LN\":\n",
    "      # Write your code below\n",
    "        LN = (1-V**2)*((V**2)*math.log(N))\n",
    "        return LN\n",
    "        \n",
    "    case \"entropy\":\n",
    "      # Write your code below\n",
    "        entropy = 0;\n",
    "        for word in vocab.keys():\n",
    "            pv= vocab[word]/N;\n",
    "            entropy += -100*(pv*math.log(pv))\n",
    "        return entropy   \n",
    "            \n",
    "    case \"W\":\n",
    "      # Write your code below\n",
    "        a= V- 100;\n",
    "        W = N**(V-a)\n",
    "        return W\n",
    "  \n",
    "    case _:\n",
    "      raise ValueError (\"Invalid metric type\")"
   ]
  },
  {
   "cell_type": "markdown",
   "id": "5b8c4ce5-d0ce-45fb-b27a-d8e41a0dfe1e",
   "metadata": {},
   "source": [
    "Now we'll write a wrapper function which internally calls all the metrics for a given dataset in one go. See below"
   ]
  },
  {
   "cell_type": "code",
   "execution_count": null,
   "id": "8922c7d5-30cd-47fe-943a-49b02415b1cc",
   "metadata": {},
   "outputs": [],
   "source": [
    "us_char_count = construct_vocab_counts (us_vocab)"
   ]
  },
  {
   "cell_type": "code",
   "execution_count": null,
   "id": "74cd2475-1db4-4b81-82e6-a698cf5e1a17",
   "metadata": {},
   "outputs": [],
   "source": [
    "def calculate_metrics (speeches, corpus_length, vocab, vocab_counts):\n",
    "  \"\"\" Function calculates all the metrics for a given dataset\n",
    "\n",
    "  params\n",
    "  :speeches: iterable\n",
    "  :corpus_length: int; number of tokens in the entire corpus\n",
    "  :vocab: dict; keys are the word types and values are the number of times they\n",
    "          appear in the corpus\n",
    "  :vocab_counts: dict; keys are the word counts and values are the number of words\n",
    "          with that count\n",
    "  :a: float; arbitrary constant that's usually set to a value comparable to |V|\n",
    "\n",
    "  returns\n",
    "  :metrics: dict; keys are the metric names and values are the metric values\n",
    "  \"\"\"\n",
    "\n",
    "  metrics = dict ()\n",
    "  metrics[\"meanWordChars\"] = meanWordChars (speeches)\n",
    "  metrics[\"meanWordSyllables\"] = meanWordSyllables (speeches)\n",
    "  metrics[\"W7C\"] = WxC (speeches, length=7)\n",
    "  metrics[\"W6C\"] = WxC (speeches, length=6)\n",
    "  metrics[\"W3Sy\"] = WxSy (speeches, length=3)\n",
    "  metrics[\"Wlt3Sy\"] = WitSy (speeches, length=3)\n",
    "  metrics[\"Weq2Sy\"] = WeqSy (speeches, length=2)\n",
    "  metrics[\"Weq1Sy\"] = WeqSy (speeches, length=1)\n",
    "  metrics[\"type-token\"] = Grieve_metrics (vocab, corpus_length, vocab_counts, metric_type=\"type-token\")\n",
    "  metrics[\"K\"] = Grieve_metrics (vocab, corpus_length, vocab_counts, metric_type=\"K\")\n",
    "  metrics[\"R\"] = Grieve_metrics (vocab, corpus_length, vocab_counts, metric_type=\"R\")\n",
    "  metrics[\"C\"] = Grieve_metrics (vocab, corpus_length, vocab_counts, metric_type=\"C\")\n",
    "  metrics[\"H\"] = Grieve_metrics (vocab, corpus_length, vocab_counts, metric_type=\"H\")\n",
    "  metrics[\"S\"] = Grieve_metrics (vocab, corpus_length, vocab_counts, metric_type=\"S\")\n",
    "  metrics[\"k\"] = Grieve_metrics (vocab, corpus_length, vocab_counts, metric_type=\"k\")\n",
    "  metrics[\"LN\"] = Grieve_metrics (vocab, corpus_length, vocab_counts, metric_type=\"LN\")\n",
    "  metrics[\"entropy\"] = Grieve_metrics (vocab, corpus_length, vocab_counts, metric_type=\"entropy\")\n",
    "  metrics[\"W\"] = Grieve_metrics (vocab, corpus_length, vocab_counts, a=len(vocab)-0.01, metric_type=\"W\")\n",
    "  return metrics"
   ]
  },
  {
   "cell_type": "code",
   "execution_count": null,
   "id": "65646f69-678d-4652-a352-458a3479be7d",
   "metadata": {},
   "outputs": [
    {
     "data": {
      "text/plain": [
       "{'meanWordChars': 4.808280087616606,\n",
       " 'meanWordSyllables': 1.4994977637315727,\n",
       " 'W7C': 18219542,\n",
       " 'W6C': 23713576,\n",
       " 'W3Sy': 9527333,\n",
       " 'Wlt3Sy': 63041102,\n",
       " 'Weq2Sy': 13231638,\n",
       " 'Weq1Sy': 49809464,\n",
       " 'type-token': 0.005099255619884871,\n",
       " 'K': 95.0851255477567,\n",
       " 'R': 43.43908431194536,\n",
       " 'C': 0.7083619411800622,\n",
       " 'H': 3718.5167337027938,\n",
       " 'S': 0.11982866948614358,\n",
       " 'k': 4.42740326352923,\n",
       " 'LN': -3.3938895996562285e+23,\n",
       " 'entropy': 709.2599831745923,\n",
       " 'W': -4983327432666145007}"
      ]
     },
     "execution_count": 80,
     "metadata": {},
     "output_type": "execute_result"
    }
   ],
   "source": [
    "# test for us_speeches\n",
    "vocab= construct_vocab(us_speeches)\n",
    "corpus_length= us_speeches['tokenized_speech'].apply(lambda x: len(x)).sum()\n",
    "vocab_counts= construct_vocab_counts(vocab)\n",
    "calculate_metrics(us_speeches,corpus_length, vocab, vocab_counts)"
   ]
  },
  {
   "cell_type": "markdown",
   "id": "f68fe8e8-b6d9-4b19-93a4-522748dd2dc2",
   "metadata": {},
   "source": [
    "We'll need to calculate confidence intervals using bootstrapping, so implement the following function that wraps the call to `calculate_metrics` inside a bootstrapping loop."
   ]
  },
  {
   "cell_type": "code",
   "execution_count": null,
   "id": "1441e10c-e165-4f9c-9cf0-b806be5ebc01",
   "metadata": {},
   "outputs": [],
   "source": [
    "def bootrapped_metrics (speeches, num_iterations, examples_per_bootstrap=1000):\n",
    "  \"\"\" Function calculates the metrics for a given dataset using bootstrapping\n",
    "\n",
    "  params\n",
    "  :speeches: iterable\n",
    "  :num_iterations: int (default: 1000); number of iterations to perform\n",
    "  :examples_per_bootstrap: int (default: 1000); number of examples to use in each\n",
    "          bootstrapped sample\n",
    "\n",
    "  returns\n",
    "  :all_metrics: list of dicts; each item is the dictionary of metrics calculated for a\n",
    "                bootrapped dataset.\n",
    "  \"\"\"\n",
    "  all_metrics = list ()\n",
    "\n",
    "  for _ in tqdm (range (num_iterations)):\n",
    "      # Write your code below\n",
    "      sample_speeches= speeches.sample(n=examples_per_bootstrap, replace=True, random_state=None)\n",
    "      vocab= construct_vocab(sample_speeches);\n",
    "      corpus_length= sample_speeches['tokenized_speech'].apply(lambda x: len(x)).sum();\n",
    "      vocab_counts= construct_vocab_counts(vocab);\n",
    "      metrics= calculate_metrics(sample_speeches,corpus_length, vocab, vocab_counts);\n",
    "      all_metrics.append(metrics);\n",
    "  return all_metrics"
   ]
  },
  {
   "cell_type": "markdown",
   "id": "0194b793-e363-4db1-af83-a6a26011023f",
   "metadata": {},
   "source": [
    "Now implement the following cells to calculate all metrics for every bootstrapped sample\n",
    "\n",
    "#### **1a** Democrats Vs Republicans"
   ]
  },
  {
   "cell_type": "code",
   "execution_count": null,
   "id": "e1ef3a8e-cef3-4674-afbd-8f8346aa29ff",
   "metadata": {},
   "outputs": [
    {
     "name": "stdout",
     "output_type": "stream",
     "text": [
      "dem_metrics: {'meanWordChars': 4.846513495043401, 'meanWordSyllables': 1.5125322073713559, 'W7C': 9993909, 'W6C': 12944689, 'W3Sy': 5272468, 'Wlt3Sy': 33647970, 'Weq2Sy': 7161832, 'Weq1Sy': 26486138, 'type-token': 0.006695531021516253, 'K': 95.44225505612052, 'R': 41.77090513132298, 'C': 0.7135488714578789, 'H': 3480.0884058912593, 'S': 0.12149213524538265, 'k': 4.359037289865127, 'LN': -8.059695158540538e+22, 'entropy': 709.3619784739266, 'W': 0}\n",
      "rep_metrics: {'meanWordChars': 4.764055732648811, 'meanWordSyllables': 1.4844209002990578, 'W7C': 8225633, 'W6C': 10768887, 'W3Sy': 4254865, 'Wlt3Sy': 29393132, 'Weq2Sy': 6069806, 'Weq1Sy': 23323326, 'type-token': 0.00708470105962028, 'K': 94.78099293405297, 'R': 41.096150024042885, 'C': 0.7144028008780031, 'H': 3372.4968149233105, 'S': 0.11974696500633426, 'k': 4.340593908276053, 'LN': -5.59703776688568e+22, 'entropy': 706.8974801023767, 'W': 5399248160174879185}\n"
     ]
    },
    {
     "name": "stderr",
     "output_type": "stream",
     "text": [
      "100%|██████████| 200/200 [00:12<00:00, 15.93it/s]\n",
      "100%|██████████| 200/200 [00:12<00:00, 15.82it/s]\n"
     ]
    }
   ],
   "source": [
    "dem_speeches = us_speeches[us_speeches[\"party\"] == \"D\"]\n",
    "rep_speeches = us_speeches[us_speeches[\"party\"] == \"R\"]\n",
    "\n",
    "# Write your code below to calculate all the metrics on the observed data\n",
    "dem_vocab= construct_vocab(dem_speeches)\n",
    "dem_corpus_length= dem_speeches['tokenized_speech'].apply(lambda x: len(x)).sum()\n",
    "dem_vocab_counts= construct_vocab_counts(dem_vocab)\n",
    "dem_metrics=calculate_metrics(dem_speeches,dem_corpus_length, dem_vocab, dem_vocab_counts)\n",
    "print(\"dem_metrics:\", dem_metrics)\n",
    "\n",
    "rep_vocab= construct_vocab(rep_speeches)\n",
    "rep_corpus_length= rep_speeches['tokenized_speech'].apply(lambda x: len(x)).sum()\n",
    "rep_vocab_counts= construct_vocab_counts(rep_vocab)\n",
    "rep_metrics=calculate_metrics(rep_speeches,rep_corpus_length, rep_vocab, rep_vocab_counts)\n",
    "print(\"rep_metrics:\", rep_metrics)\n",
    "\n",
    "# Write your code below to calculate all the metrics for every bootstrapped sample\n",
    "sample_dem_metrics = bootrapped_metrics (dem_speeches, num_iterations=200, examples_per_bootstrap=1000)\n",
    "sample_rep_metrics = bootrapped_metrics (rep_speeches, num_iterations=200, examples_per_bootstrap=1000)"
   ]
  },
  {
   "cell_type": "markdown",
   "id": "8644e4f8-c569-4e37-ae50-56822fa1a1a7",
   "metadata": {},
   "source": [
    "#### **1b** Congressmen Vs Congresswomen"
   ]
  },
  {
   "cell_type": "code",
   "execution_count": null,
   "id": "854524df-0e4e-40cf-b693-c462f7375ca7",
   "metadata": {},
   "outputs": [
    {
     "name": "stdout",
     "output_type": "stream",
     "text": [
      "men_metrics: {'meanWordChars': 4.786218127582693, 'meanWordSyllables': 1.4929736439265826, 'W7C': 14641458, 'W6C': 19095918, 'W3Sy': 7642953, 'Wlt3Sy': 51470974, 'Weq2Sy': 10687600, 'Weq1Sy': 40783374, 'type-token': 0.00551585754064351, 'K': 95.42738974607266, 'R': 42.408991654275226, 'C': 0.7094085052394424, 'H': 3613.2816144583758, 'S': 0.12000098140242406, 'k': 4.401026401138423, 'LN': -2.022751607453502e+23, 'entropy': 707.4852530350847, 'W': 7405481891345658721}\n",
      "women_metrics: {'meanWordChars': 4.905211844238377, 'meanWordSyllables': 1.5281622338029752, 'W7C': 3578084, 'W6C': 4617658, 'W3Sy': 1884380, 'Wlt3Sy': 11570128, 'Weq2Sy': 2544038, 'Weq1Sy': 9026090, 'type-token': 0.011247011038976676, 'K': 93.96715487339485, 'R': 41.25447189640254, 'C': 0.726609760839332, 'H': 3112.824453862761, 'S': 0.125916086781256, 'k': 4.2624674321764795, 'LN': -8.607083608583981e+21, 'entropy': 713.0967131529668, 'W': 0}\n"
     ]
    },
    {
     "name": "stderr",
     "output_type": "stream",
     "text": [
      "100%|██████████| 200/200 [00:12<00:00, 15.94it/s]\n",
      "100%|██████████| 200/200 [00:13<00:00, 15.18it/s]\n"
     ]
    }
   ],
   "source": [
    "men_speeches = us_speeches[us_speeches[\"gender\"] == \"M\"]\n",
    "women_speeches = us_speeches[us_speeches[\"gender\"] == \"F\"]\n",
    "\n",
    "# Write your code below to calculate all the metrics on the observed data\n",
    "men_vocab= construct_vocab(men_speeches)\n",
    "men_corpus_length= men_speeches['tokenized_speech'].apply(lambda x: len(x)).sum()\n",
    "men_vocab_counts= construct_vocab_counts(men_vocab)\n",
    "men_metrics=calculate_metrics(men_speeches,men_corpus_length, men_vocab, men_vocab_counts)\n",
    "print(\"men_metrics:\", men_metrics)\n",
    "\n",
    "women_vocab= construct_vocab(women_speeches)\n",
    "women_corpus_length= women_speeches['tokenized_speech'].apply(lambda x: len(x)).sum()\n",
    "women_vocab_counts= construct_vocab_counts(women_vocab)\n",
    "women_metrics=calculate_metrics(women_speeches,women_corpus_length, women_vocab, women_vocab_counts)\n",
    "print(\"women_metrics:\", women_metrics)\n",
    "\n",
    "# Write your code below to calculate all the metrics for every bootstrapped sample\n",
    "sample_men_metrics = bootrapped_metrics (men_speeches, num_iterations=200, examples_per_bootstrap=1000)\n",
    "sample_women_metrics = bootrapped_metrics (women_speeches, num_iterations=200, examples_per_bootstrap=1000)\n"
   ]
  },
  {
   "cell_type": "markdown",
   "id": "195e7624-70c6-4d04-a3ad-c686118148da",
   "metadata": {},
   "source": [
    "#### **1c** 107th congress vs 111th congress "
   ]
  },
  {
   "cell_type": "code",
   "execution_count": null,
   "id": "8f6c7096-29d4-4bfb-8ae3-4cbb0f03b929",
   "metadata": {},
   "outputs": [
    {
     "name": "stdout",
     "output_type": "stream",
     "text": [
      "cong107_metrics: {'meanWordChars': 4.79620344299387, 'meanWordSyllables': 1.5028094936640104, 'W7C': 3067469, 'W6C': 3971396, 'W3Sy': 1609929, 'Wlt3Sy': 10540659, 'Weq2Sy': 2221524, 'Weq1Sy': 8319135, 'type-token': 0.01027867951740278, 'K': 98.21170772381751, 'R': 35.82910607714722, 'C': 0.7193824021420678, 'H': 2931.1425083632685, 'S': 0.12705377446113442, 'k': 4.2032205515324, 'LN': -3.968892529836172e+21, 'entropy': 699.910616903423, 'W': 0}\n",
      "cong111_metrics: {'meanWordChars': 4.82336415437387, 'meanWordSyllables': 1.4969326141489534, 'W7C': 3623003, 'W6C': 4761156, 'W3Sy': 1895125, 'Wlt3Sy': 12633370, 'Weq2Sy': 2655333, 'Weq1Sy': 9978037, 'type-token': 0.01134157392076743, 'K': 91.51637154008603, 'R': 43.229841364136114, 'C': 0.7283905686174389, 'H': 3272.8213670341815, 'S': 0.12027843860756421, 'k': 4.285756086549574, 'LN': -1.215735805810294e+22, 'entropy': 712.0941258767458, 'W': -2208450800590922687}\n"
     ]
    },
    {
     "name": "stderr",
     "output_type": "stream",
     "text": [
      "100%|██████████| 200/200 [00:12<00:00, 15.79it/s]\n",
      "100%|██████████| 200/200 [00:11<00:00, 16.99it/s]\n"
     ]
    }
   ],
   "source": [
    "cong107_speeches = us_speeches[us_speeches[\"congress\"] == 107]\n",
    "cong111_speeches = us_speeches[us_speeches[\"congress\"] == 111]\n",
    "\n",
    "# Write your code below to calculate all the metrics on the observed data\n",
    "cong107_vocab= construct_vocab(cong107_speeches)\n",
    "cong107_corpus_length= cong107_speeches['tokenized_speech'].apply(lambda x: len(x)).sum()\n",
    "cong107_vocab_counts= construct_vocab_counts(cong107_vocab)\n",
    "cong107_metrics=calculate_metrics(cong107_speeches,cong107_corpus_length, cong107_vocab, cong107_vocab_counts)\n",
    "print(\"cong107_metrics:\", cong107_metrics)\n",
    "\n",
    "cong111_vocab= construct_vocab(cong111_speeches)\n",
    "cong111_corpus_length= cong111_speeches['tokenized_speech'].apply(lambda x: len(x)).sum()\n",
    "cong111_vocab_counts= construct_vocab_counts(cong111_vocab)\n",
    "cong111_metrics=calculate_metrics(cong111_speeches,cong111_corpus_length, cong111_vocab, cong111_vocab_counts)\n",
    "print(\"cong111_metrics:\", cong111_metrics)\n",
    "\n",
    "# Write your code below to calculate all the metrics for every bootstrapped sample\n",
    "sample_cong107_metrics = bootrapped_metrics (cong107_speeches, num_iterations=200, examples_per_bootstrap=1000)\n",
    "sample_cong111_metrics = bootrapped_metrics (cong111_speeches, num_iterations=200, examples_per_bootstrap=1000)\n"
   ]
  },
  {
   "cell_type": "markdown",
   "id": "edb77aec-605a-4369-8bcc-9b018d91fbd6",
   "metadata": {},
   "source": [
    "#### 1d. US Vs UK"
   ]
  },
  {
   "cell_type": "code",
   "execution_count": null,
   "id": "1e1351b2-32eb-41e2-a2d8-745c510d5878",
   "metadata": {},
   "outputs": [],
   "source": [
    "# Write your code below to calculate all the metrics on the observed data\n",
    "pass\n",
    "\n",
    "# Write your code below to calculate all the metrics for every bootstrapped sample\n",
    "pass"
   ]
  },
  {
   "cell_type": "markdown",
   "id": "19a616b9-d1c8-40ca-9ec7-79988ba363a0",
   "metadata": {},
   "source": [
    "You can use the following code to plot the distribution of any metric for two groups being compared. \n",
    "Please see the documentation within the function definition to understand how to call the function "
   ]
  },
  {
   "cell_type": "code",
   "execution_count": null,
   "id": "6c1be91b-4d7a-4eb9-be7f-0cf4e1625bb4",
   "metadata": {},
   "outputs": [],
   "source": [
    "def plot_distributions (all_metrics_group1, \n",
    "                        all_metrics_group2, \n",
    "                        group1_name=\"group1\", \n",
    "                        group2_name=\"group2\", \n",
    "                        metric=\"meanWordChars\"):\n",
    "  \"\"\" Function plots the distribution of a metric for two groups\n",
    "\n",
    "  params\n",
    "  :all_metrics_group1: list of dicts; each item is the dictionary of metrics calculated for a\n",
    "                single bootrapped dataset.\n",
    "  :all_metrics_group2: list of dicts; each item is the dictionary of metrics calculated for a\n",
    "                single bootrapped dataset.\n",
    "  :group1_name: str (default: \"group1\"); name of the first group\n",
    "  :group2_name: str (default: \"group2\"); name of the second group\n",
    "  :metric: str (default: \"meanWordChars\"); name of the metric to plot\n",
    "  \"\"\"\n",
    "  group1_metrics = sorted ([item[metric] for item in all_metrics_group1])\n",
    "  group2_metrics = sorted ([item[metric] for item in all_metrics_group2])\n",
    "  group1_empirical_ci = group1_metrics[int(0.025*len(group1_metrics))], group1_metrics[int(0.975*len(group1_metrics))]\n",
    "  group2_empirical_ci = group2_metrics[int(0.025*len(group2_metrics))], group2_metrics[int(0.975*len(group2_metrics))]\n",
    "  print (f\"Empirical CI for {group1_name}: {group1_empirical_ci}\")\n",
    "  print (f\"Empirical CI for {group2_name}: {group2_empirical_ci}\")\n",
    "  # Do a hypothesis test based on whether the CI overlap\n",
    "  null_rejected = group1_empirical_ci[1] < group2_empirical_ci[0] or group1_empirical_ci[0] > group2_empirical_ci[1]\n",
    "  if null_rejected:\n",
    "    print (\"Reject the null hypothesis\")\n",
    "  else:\n",
    "    print (\"Fail to reject the null hypothesis\")\n",
    "\n",
    "  # Plot the distribution of the metric for the two groups\n",
    "  pyplot.figure (figsize=(5, 3))\n",
    "  pyplot.hist (group1_metrics, bins=20, color='b', alpha=0.5, label=group1_name)\n",
    "  pyplot.hist (group2_metrics, bins=20, color='r', alpha=0.5, label=group2_name)\n",
    "  pyplot.xlabel (metric)\n",
    "  pyplot.ylabel (\"Frequency distribution\")\n",
    "  pyplot.title (f\"{metric} for {group1_name} Vs {group2_name}; Null rejected={null_rejected}\")\n",
    "  pyplot.legend (loc=\"upper right\")\n",
    "  pyplot.show ()"
   ]
  },
  {
   "cell_type": "markdown",
   "id": "2e118de4-3a14-4b43-8215-15711a2c487c",
   "metadata": {},
   "source": [
    "Assuming you have stored all the metrics from the bootstrapped samples for the democrat and republican speeches in the variables `sample_dem_metrics` and `sample_rep_metrics`, respectively, then you can call the plotting function above as follows:"
   ]
  },
  {
   "cell_type": "code",
   "execution_count": null,
   "id": "1c87a14c-97fc-4fc3-bdc1-818523d11d05",
   "metadata": {},
   "outputs": [
    {
     "name": "stdout",
     "output_type": "stream",
     "text": [
      "Empirical CI for Democrats: (4.8167469569859165, 4.881570058100257)\n",
      "Empirical CI for Republicans: (4.729124199279027, 4.8126421256005605)\n",
      "Reject the null hypothesis\n"
     ]
    },
    {
     "data": {
      "image/png": "[encoded data removed]",
      "text/plain": [
       "<Figure size 500x300 with 1 Axes>"
      ]
     },
     "metadata": {},
     "output_type": "display_data"
    }
   ],
   "source": [
    "# If you want to see the difference between democrats and republicans on the meanWordChars metric\n",
    "plot_distributions (sample_dem_metrics, \n",
    "                    sample_rep_metrics, \n",
    "                    group1_name=\"Democrats\", \n",
    "                    group2_name=\"Republicans\", \n",
    "                    metric=\"meanWordChars\")"
   ]
  },
  {
   "cell_type": "code",
   "execution_count": null,
   "id": "522cc47f-6e5f-45c4-814a-339615a31b9d",
   "metadata": {},
   "outputs": [
    {
     "name": "stdout",
     "output_type": "stream",
     "text": [
      "Empirical CI for Democrats: (0.0680089485458613, 0.07499139242755756)\n",
      "Empirical CI for Republicans: (0.0659020234599864, 0.07497153380097558)\n",
      "Fail to reject the null hypothesis\n"
     ]
    },
    {
     "data": {
      "image/png": "[encoded data removed]",
      "text/plain": [
       "<Figure size 500x300 with 1 Axes>"
      ]
     },
     "metadata": {},
     "output_type": "display_data"
    }
   ],
   "source": [
    "# If you want to see the difference between the democrats and republicans on the type-token ratio metric\n",
    "plot_distributions (sample_dem_metrics, \n",
    "                    sample_rep_metrics, \n",
    "                    group1_name=\"Democrats\", \n",
    "                    group2_name=\"Republicans\", \n",
    "                    metric=\"type-token\")"
   ]
  },
  {
   "cell_type": "code",
   "execution_count": null,
   "id": "32e7a56a-b3e1-4f1b-82e1-9be45f626e1c",
   "metadata": {},
   "outputs": [
    {
     "name": "stdout",
     "output_type": "stream",
     "text": [
      "Empirical CI for Congressmen: (4.749508627047117, 4.828385980968788)\n",
      "Empirical CI for Congresswomen: (4.878087047856627, 4.939137271141969)\n",
      "Reject the null hypothesis\n"
     ]
    },
    {
     "data": {
      "image/png": "[encoded data removed]",
      "text/plain": [
       "<Figure size 500x300 with 1 Axes>"
      ]
     },
     "metadata": {},
     "output_type": "display_data"
    }
   ],
   "source": [
    "plot_distributions (sample_men_metrics, \n",
    "                    sample_women_metrics, \n",
    "                    group1_name=\"Congressmen\", \n",
    "                    group2_name=\"Congresswomen\", \n",
    "                    metric=\"meanWordChars\")"
   ]
  },
  {
   "cell_type": "code",
   "execution_count": null,
   "id": "05921f3e-9d14-4a91-9abb-70a3b5f35fd7",
   "metadata": {},
   "outputs": [
    {
     "name": "stdout",
     "output_type": "stream",
     "text": [
      "Empirical CI for Congress107: (4.759330636794621, 4.838334473658489)\n",
      "Empirical CI for Congress111: (4.7851088636780466, 4.873722311528644)\n",
      "Fail to reject the null hypothesis\n"
     ]
    },
    {
     "data": {
      "image/png": "[encoded data removed]",
      "text/plain": [
       "<Figure size 500x300 with 1 Axes>"
      ]
     },
     "metadata": {},
     "output_type": "display_data"
    }
   ],
   "source": [
    "plot_distributions (sample_cong107_metrics, \n",
    "                    sample_cong111_metrics, \n",
    "                    group1_name=\"Congress107\", \n",
    "                    group2_name=\"Congress111\", \n",
    "                    metric=\"meanWordChars\")"
   ]
  },
  {
   "cell_type": "markdown",
   "id": "b7281c9b-41de-4468-9062-20806178685d",
   "metadata": {},
   "source": [
    "# 3. Lexical Variation"
   ]
  },
  {
   "cell_type": "markdown",
   "id": "57224d68-0cc8-403b-9c36-2d8f2394c77f",
   "metadata": {},
   "source": [
    "Implement the following functions to get exlusive words in one vocabulary with respect to another and calculate the PMI of each word given the entire corpus."
   ]
  },
  {
   "cell_type": "code",
   "execution_count": null,
   "id": "46c6f3aa-1ca8-49ff-a445-ac45f6394db9",
   "metadata": {},
   "outputs": [],
   "source": [
    "def set_exclusive (vocab1, vocab2):\n",
    "  \"\"\" Function calculates the set of words that are exclusive to the first\n",
    "  vocabulary when compared to the second vocabulary i.e. words that are in the\n",
    "  first vocabulary but not in the second vocabulary.\n",
    "\n",
    "  params\n",
    "  :vocab1: dict; keys are the word types and values are the number of times they\n",
    "          appear in the first corpus\n",
    "  :vocab2: dict; keys are the word types and values are the number of times they\n",
    "          appear in the second corpus\n",
    "\n",
    "  returns\n",
    "  :exclusive: set\n",
    "  \"\"\"\n",
    "  exclusive = set ()\n",
    "  # found =0 \n",
    "  # Write your code below  \n",
    "  #for word1 in vocab1.keys():\n",
    "  #      for word2 in vocab2.keys():\n",
    "  #          if word1 == word2:\n",
    "  #             found =1;\n",
    "  #             break;\n",
    "  #      if found == 0:\n",
    "  #          exclusive.append(word1);\n",
    "  exclusive = set(vocab1.keys()) - set(vocab2.keys()) \n",
    "  return exclusive"
   ]
  },
  {
   "cell_type": "markdown",
   "id": "21b13d34-8077-4903-8c6e-bdda30ccc3a5",
   "metadata": {},
   "source": [
    "You can now calculate the length of the set of exclusive words in one set over another. Implement the following function, in addition, which will take a set of exclusive words in a vocabulary and sort them based on their frequency/counts in the corpus."
   ]
  },
  {
   "cell_type": "code",
   "execution_count": null,
   "id": "194ca91f-845d-445b-ad6f-49f9a752ec9d",
   "metadata": {},
   "outputs": [],
   "source": [
    "def sort_exclusive (exclusive, vocab, k=10):\n",
    "  \"\"\" Function returns the most frequent items within the exclusive words.\n",
    "\n",
    "  params\n",
    "  :exclusive: set\n",
    "  :vocab: dict; keys are the word types and values are the number of times they\n",
    "          appear in the corpus\n",
    "  :k: int (default: 10); number of items to return\n",
    "\n",
    "  returns\n",
    "  :top_k: list of tuples (word, count)\n",
    "  \"\"\"\n",
    "  top_k = list ()\n",
    "  # Write your code below\n",
    "  exclusive_vocab = {word: vocab[word] for word in exclusive}\n",
    "  sorted_exclusive_vocab = sorted(exclusive_vocab.items(), key=lambda x: x[1], reverse=True)\n",
    "  top_k = sorted_exclusive_vocab[:k]\n",
    "    \n",
    "  return top_k"
   ]
  },
  {
   "cell_type": "markdown",
   "id": "b6ca6237-4982-40d1-88dc-0c98d64aecb9",
   "metadata": {},
   "source": [
    "A more principled approach for identifying words that are under or over-represented in one corpus compared to another is by calculating the pointwise mutual information (PMI) for each word with respect to individual corpora and then taking the difference between the two as a proxy measure of under or over representation.\n",
    "\n",
    "In general, PMI (X,Y) for two events can be calculated as:\n",
    "\n",
    "$$ PMI (X,Y) = \\log_2\\left(\\frac{Pr (X,Y)}{Pr(X)\\cdot Pr(Y)}\\right)$$\n",
    "\n",
    "Rewriting this further,\n",
    "$$ PMI (X,Y) = \\log_2\\left(\\frac{Pr (X|Y) \\cdot Pr (Y)}{Pr(X)\\cdot Pr(Y)}\\right)$$\n",
    "$$  = \\log_2\\left(\\frac{Pr (X|Y)}{Pr(X)}\\right)$$\n",
    "\n",
    "We're interested in finding the PMI of any word, say, _vote_ with respect to a specific group, say, republicans. In this case, our two events are:\n",
    "\n",
    "1. X=speech contains the word _vote_\n",
    "2. Y=speech is made by a republican.\n",
    "\n",
    "In this case, $Pr(\\text{speech contains vote} | \\text{speech is made by republican})$ can be calculated from the vocabulary constructed by slicing the corpus into a republican group. On the other hand, $Pr(\\text{speech contains vote})$ needs to be calculated by considering the vocabulary from the entire corpus (i.e. without any slicing).\n",
    "\n",
    "Note though that we're going to calculate the PMI with respect to two groups and take their difference. If you expand the log function in the PMI calculation and take PMI differences, you'll find that the denominator term cancels out. You can do this math yourself to verify.\n",
    "\n",
    "Thus,\n",
    "\n",
    "$$ PMI (X=vote,Y=republican) - PMI (X=vote,Y=democrat) = \\log_2\\left({Pr (X=vote|Y=republican) }\\right) - \\log_2\\left({Pr (X=vote|Y=democrat) }\\right)$$"
   ]
  },
  {
   "cell_type": "markdown",
   "id": "08c4fe1a-904a-4734-9830-3dcaa265974e",
   "metadata": {},
   "source": [
    "One problem you'll face is that for words that are used in one vocabulary and not the other, the probabilities are going to be zero and the log will be undefined. To avoid this problem, you can assume a small non-zero count is added to every word in the vocabularies. This process is called smoothing.\n",
    "\n",
    "Without smoothing, you can calculate the probability of a word, say, _vote_ as:\n",
    "\n",
    "$$ Pr(vote) = \\frac{\\# vote}{\\# \\text{any word}} = \\frac{Count(vote)}{N}$$,\n",
    "\n",
    "where $N$ is the number of tokens in the corpus and $Count(\\cdot)$ is a function that return the number of times the input word to the function appears in the corpus.\n",
    "\n",
    "With smoothing, you can calculate the same probability as:\n",
    "\n",
    "$$ Pr(vote) = \\frac{Count(vote) + \\alpha}{N+|V|\\cdot \\alpha}$$\n",
    "\n",
    "where $\\alpha$ can be any real number but is typically taken to be an integer. Now, let's write a function that will give the probability after smoothing."
   ]
  },
  {
   "cell_type": "code",
   "execution_count": null,
   "id": "10cba8c9-c040-4a6c-b3cc-f56baca558a8",
   "metadata": {},
   "outputs": [],
   "source": [
    "def smooth_prob (vocab, word, N, alpha=1):\n",
    "  \"\"\" Function calculates the smoothed probability of a word in a vocabulary.\n",
    "\n",
    "  The logic of this function should be that if word is present in the vocab,\n",
    "  return the probability of the word assuming it occurs vocab[word] + alpha\n",
    "  times in the corpus. If word is not present in the vocab, calculate the\n",
    "  probability as if it occurs alpha times.\n",
    "\n",
    "  params\n",
    "  :vocab: dict; keys are the word types and values are the number of times they\n",
    "          appear in the corpus\n",
    "  :word: str\n",
    "  :N: int; number of tokens in the corpus\n",
    "\n",
    "  :alpha: float (default: 1); smoothing constant\n",
    "\n",
    "  returns\n",
    "  :prob: float\n",
    "  \"\"\"\n",
    "  prob = 0.0\n",
    "  # Write your code below\n",
    "  if word in vocab.keys():\n",
    "      prob = (vocab[word]+alpha)/(N+len(vocab)*alpha)\n",
    "  else:\n",
    "      prob = alpha/(N+len(vocab)*alpha)\n",
    "\n",
    "  return prob"
   ]
  },
  {
   "cell_type": "markdown",
   "id": "350f43fe-a775-4263-94fc-7b4f130af330",
   "metadata": {},
   "source": [
    "Make use of the `smooth_prob` function to calculate the PMI for any list of words"
   ]
  },
  {
   "cell_type": "code",
   "execution_count": null,
   "id": "f103bdf3-b4c4-4066-9043-0b690fe4838b",
   "metadata": {},
   "outputs": [],
   "source": [
    "def pmi_diff(words, vocab1, vocab2):\n",
    "  \"\"\" Function calculates the PMI difference for each word in the list of words.\n",
    "\n",
    "  params\n",
    "  :words: list of words\n",
    "  :vocab1: dict; keys are the word types and values are the number of times they\n",
    "          appear in the first corpus\n",
    "  :vocab2: dict; keys are the word types and values are the number of times they\n",
    "          appear in the second corpus\n",
    "\n",
    "  returns\n",
    "  pmi_words: list of tuples (word, pmi)\n",
    "  \"\"\"\n",
    "\n",
    "  pmi_words = list()\n",
    "  N1= sum(vocab1.values());\n",
    "  N2= sum(vocab2.values());\n",
    "  # Write your code below\n",
    "  for word in words:\n",
    "      prob1 =  smooth_prob(vocab1, word, N1, alpha=1);\n",
    "      prob2 =  smooth_prob(vocab2, word, N2, alpha=1);\n",
    "      pmi = math.log2(prob1)-math.log2(prob2);\n",
    "      pmi_words.append((word, pmi));\n",
    "\n",
    "  return pmi_words"
   ]
  },
  {
   "cell_type": "markdown",
   "id": "23543a72-66e9-4a3f-95c4-d5190915243f",
   "metadata": {},
   "source": [
    "Once you have the PMI difference for each word, you can rank each word based on this difference. Depending on the sign and the rank of the word, you'll be able to deduce words that are over or underrepresented in one group over another."
   ]
  },
  {
   "cell_type": "markdown",
   "id": "84b1cf00-1b98-4092-ad8c-011658292d0a",
   "metadata": {},
   "source": [
    "Now put everything together to answer the following questions\n",
    "\n",
    "#### **2a** Exclusive and overrepresented words by republicans over democrats; and vice versa."
   ]
  },
  {
   "cell_type": "code",
   "execution_count": null,
   "id": "d8729c72-5120-4747-bcd0-b2209fc52682",
   "metadata": {},
   "outputs": [
    {
     "name": "stdout",
     "output_type": "stream",
     "text": [
      "exclusive words by democrats over republicans: [('sonoma', 141), ('drinan', 123), ('apa', 98), ('accutane', 74), ('lgbt', 72), ('30somethings', 69), ('kalaupapa', 67), ('bluedog@mail.house.gov.', 62), ('$618', 61), ('unbid', 59)]\n",
      "exclusive words by republicans over democrats: [('obamacare.', 220), ('entity:', 181), ('hubbert', 121), ('compean.', 111), ('pantano', 110), ('hubberts', 109), ('bow:', 93), ('...............................................', 74), ('..............................................', 69), ('eximbank', 59)]\n"
     ]
    }
   ],
   "source": [
    "# Write your code below\n",
    "exclusive_dem=set_exclusive (dem_vocab, rep_vocab);\n",
    "print(\"exclusive words by democrats over republicans:\", sort_exclusive (exclusive_dem, dem_vocab, k=10));\n",
    "exclusive_rep=set_exclusive (rep_vocab, dem_vocab);\n",
    "print(\"exclusive words by republicans over democrats:\", sort_exclusive (exclusive_rep, rep_vocab, k=10));\n",
    "#pmi_dem=pmi_diff(dem_vocab.keys(),dem_vocab, rep_vocab);\n",
    "pmi_dem=pmi_diff(dem_vocab.keys(),dem_vocab, rep_vocab);\n",
    "pmi_dem_sorted = sorted(pmi_dem, key=lambda x: x[1], reverse=True);"
   ]
  },
  {
   "cell_type": "code",
   "execution_count": null,
   "id": "b02f520b-fee2-47c4-9aa5-217f93102f9f",
   "metadata": {},
   "outputs": [
    {
     "name": "stdout",
     "output_type": "stream",
     "text": [
      "Top 30 words by PMI difference (favoring Democrats):\n",
      "mosk: 5.6485\n",
      "30somethingdems@mail.house.gov.: 5.5979\n",
      "halliburtons: 5.4910\n",
      "3619: 5.4910\n",
      "antichoice: 5.4630\n",
      "boccieri.: 5.4344\n",
      "cbc: 5.4126\n",
      "cnmi: 5.3451\n",
      "roybal: 5.2931\n",
      "$26.625: 5.2824\n",
      "drinan.: 5.2824\n",
      "lwcf: 5.1829\n",
      "capac.: 5.1829\n",
      "accutane.: 5.1829\n",
      "snohomish: 5.1481\n",
      "plame: 5.1125\n",
      "kalaupapa.: 5.1125\n",
      "cardholder: 5.0760\n",
      "apia: 5.0760\n",
      "2010\".: 5.0760\n",
      "chamorro: 5.0636\n",
      "housedemocrats.gov.: 5.0385\n",
      "tonko.: 5.0258\n",
      "laborhealtheducation: 4.9605\n",
      "albinism: 4.9605\n",
      "rodino: 4.9504\n",
      "uxo: 4.9198\n",
      "30something.: 4.8780\n",
      "miss..: 4.8780\n",
      "340b: 4.8780\n"
     ]
    }
   ],
   "source": [
    "print(\"Top 30 words by PMI difference (favoring Democrats):\")\n",
    "for word, pmi in pmi_dem_sorted[10:40]:\n",
    "    print(f\"{word}: {pmi:.4f}\")"
   ]
  },
  {
   "cell_type": "markdown",
   "id": "5787e235-1ef8-47ca-a7d1-d9b73d23a442",
   "metadata": {},
   "source": [
    "#### **2b** Exclusive and overrepresented words by congresswomen over congressmen; and vice versa."
   ]
  },
  {
   "cell_type": "code",
   "execution_count": null,
   "id": "7bc21aa7-b8f3-438b-bbb4-a56f748a7dbd",
   "metadata": {},
   "outputs": [],
   "source": [
    "# Write your code below\n"
   ]
  },
  {
   "cell_type": "markdown",
   "id": "971da199-e2e8-436d-84f0-8036fb075edb",
   "metadata": {},
   "source": [
    "#### **2c** Exclusive and overrepresented words in 107th congress over 111th congress; and vice versa"
   ]
  },
  {
   "cell_type": "code",
   "execution_count": null,
   "id": "41c5b88f-4563-430f-960b-0e78e0556f91",
   "metadata": {},
   "outputs": [],
   "source": [
    "# Write your code below\n"
   ]
  },
  {
   "cell_type": "markdown",
   "id": "eb47b02a-976f-44c5-8b9a-19b645359e90",
   "metadata": {},
   "source": [
    "#### **2d** Exclusive and overrepresented words in US congress over UK parliament; and vice versa"
   ]
  },
  {
   "cell_type": "markdown",
   "id": "760b4f1f-0d83-4e81-ab57-27de6c834ec9",
   "metadata": {},
   "source": [
    "# 4. Semantic variation\n",
    "\n",
    "Implement the following functions to check for semantic variation between any two groups.\n",
    "\n",
    "Given two word2vec models, let's first write a function to quantify the differences between the two models for a specific word. We'll implement Eq.2 from [this paper](https://aclanthology.org/2020.acl-main.51.pdf).\n",
    "\n",
    "**Hint**: You'll use the `wv.most_similar` most method to get the near neighbors."
   ]
  },
  {
   "cell_type": "code",
   "execution_count": null,
   "id": "d95b159a-fade-4b00-897e-3d5b3bd0b23a",
   "metadata": {},
   "outputs": [],
   "source": [
    "def semantic_variation (model1, model2, word, k=100):\n",
    "  \"\"\" Function scores the semantic variation between two word2vec models for a\n",
    "  specific word using the near neighbors of the word in both the models.\n",
    "\n",
    "  params\n",
    "  :model1: gensim.models.keyedvectors.Word2VecKeyedVectors\n",
    "  :model2: gensim.models.keyedvectors.Word2VecKeyedVectors\n",
    "  :word: str\n",
    "  :k: int (default: 100); number of neighbors to consider\n",
    "\n",
    "  returns\n",
    "  :score: float\n",
    "  \"\"\"\n",
    "\n",
    "  score = 0\n",
    "  # Write your code below\n",
    "    \n",
    "  return score"
   ]
  },
  {
   "cell_type": "markdown",
   "id": "5a0d8cb0-3575-4163-9508-49b087376ba0",
   "metadata": {},
   "source": [
    "Next, you'll write a function that can compare two models on any set of words and rank them based on the semantic variation score."
   ]
  },
  {
   "cell_type": "code",
   "execution_count": null,
   "id": "5212a567-fd19-4bad-8390-d263b76632bd",
   "metadata": {},
   "outputs": [],
   "source": [
    "def rank_words_on_semantic_variation (model1, model2, words, thresh=0, k=100):\n",
    "    \"\"\" Function ranks words based on the semantic variation score. \n",
    "        Words whose semantic score falls below the threshold are ignored.\n",
    "\n",
    "        params\n",
    "        :model1: gensim.models.keyedvectors.Word2VecKeyedVectors\n",
    "        :model2: gensim.models.keyedvectors.Word2VecKeyedVectors\n",
    "        :words: list\n",
    "        :thresh: float (default: 0); threshold below which words are ignored\n",
    "        :k: int (default: 100); number of neighbors to consider\n",
    "\n",
    "        returns\n",
    "        :ranked_words: list; each item in the item is a tuple of \n",
    "                       two things - word and its semantic variation score;\n",
    "                       list is sorted according from highest semantic \n",
    "                       variation to lowest\n",
    "    \"\"\"\n",
    "    ranked_words = list ()\n",
    "    # Write your code below\n",
    "\n",
    "    return ranked_words"
   ]
  },
  {
   "cell_type": "markdown",
   "id": "0c5c95b9-ac54-40d8-a419-3113ffee0fdf",
   "metadata": {},
   "source": [
    "Broadly speaking, we have two options for training a word2vec model\n",
    "\n",
    "1. We train a new word2vec model on a corpus. This means that the embeddings are initialized randomly and then iteratively updated.\n",
    "2. We take a pretrained word2vec model and then update the embeddings by _finetuning_ them on the corpus.\n",
    "\n",
    "We'll use the finetuning approach here because it has one distinct advantage. Since we don't update the embeddings from a random point, our embeddings are likely to be of high quality.\n",
    "\n",
    "The following function continues to train the model with additional sentences in a corpus."
   ]
  },
  {
   "cell_type": "code",
   "execution_count": null,
   "id": "ba0c8c33-bae4-44c7-8901-2ffdcf9483db",
   "metadata": {},
   "outputs": [],
   "source": [
    "def finetune_model (pretrained_model, corpus, epochs=3):\n",
    "  \"\"\" Function creates a new model by initializing the vectors of the model\n",
    "  with the vectors passed in the pretrained_model.\n",
    "\n",
    "  params\n",
    "  :pretrained_model: gensim.models.keyedvectors.Word2VecKeyedVectors\n",
    "  :corpus: list of lists of strings\n",
    "  :epochs: int (default: 3); number of epochs to finetune.\n",
    "\n",
    "  returns\n",
    "  :new_model: gensim.models.keyedvectors.Word2VecKeyedVectors\n",
    "  \"\"\"\n",
    "\n",
    "  # Initialize a new Word2Vec model with the same parameters as the pre-trained model\n",
    "  new_model = Word2Vec(\n",
    "    vector_size=pretrained_model.vector_size,  # Same dimensions as the pretrained embeddings\n",
    "    window=5,                                      # Size of the window for context words\n",
    "    min_count=1,                                   # Minimum count for words to be considered\n",
    "    workers=4                                      # Number of threads to use\n",
    "  )\n",
    "\n",
    "  # Build the vocabulary using the new training corpus\n",
    "  new_model.build_vocab(corpus)\n",
    "\n",
    "  # Initialize the new model's embeddings with the pre-trained embeddings\n",
    "  # Only for the words present in both vocabularies\n",
    "  for word in new_model.wv.key_to_index:\n",
    "    if word in pretrained_model.key_to_index:\n",
    "      new_model.wv[word] = pretrained_model[word]\n",
    "\n",
    "  # Train the new model for a fixed number of epochs\n",
    "  new_model.train(\n",
    "    corpus,\n",
    "    total_examples=new_model.corpus_count,\n",
    "    epochs=epochs  # Adjust the number of epochs as needed\n",
    "  )\n",
    "\n",
    "  return new_model"
   ]
  },
  {
   "cell_type": "markdown",
   "id": "aa1c607f-3004-4bf0-889d-60e6ba5df768",
   "metadata": {},
   "source": [
    "One can now finetune an existing model on any corpus. Suppose our corpus just contained one document, whose contained was the sentence \"hello world\", then we can update the embeddings by passing this training corpus and the pretrained model to the `finetune_model` function as follows."
   ]
  },
  {
   "cell_type": "code",
   "execution_count": null,
   "id": "5a36d90f-bf8f-494c-a40a-0b2727a4d1c2",
   "metadata": {},
   "outputs": [],
   "source": [
    "# Here's how use the above function\n",
    "training_corpus = [\n",
    "    ['hello', 'world']\n",
    "]\n",
    "new_model = finetune_model (w2v_pretrained_model, training_corpus)"
   ]
  },
  {
   "cell_type": "markdown",
   "id": "9499441e-134f-4785-b550-fd17dcef13ea",
   "metadata": {},
   "source": [
    "You'll now finetune the pretrained models on slices of the data. For example, to answer 3a, you'll finetune a model on 25000 random speeches from the democrat set of speeches and finetune another model on 25000 random speeches from the republican set.\n",
    "\n",
    "\n",
    "\n",
    "**Notes** \n",
    "\n",
    "- Finetuning two models on approximately 25000 speeches takes me about 5-7 minutes so don't worry if you feel your model training is taking too long; on the other hand, if finetuning is taking over an hour, then reach out to me.\n",
    "- Make sure the corpus is formatted as a list of list of tokens. Any other format and gensim will throw an error.\n",
    "- You can use the `random` module to sample 25000 speeches."
   ]
  },
  {
   "cell_type": "markdown",
   "id": "65ec5e2e-249f-4eb5-af0f-25887cbbcbb2",
   "metadata": {},
   "source": [
    "#### 3a Republican Vs Democrats"
   ]
  },
  {
   "cell_type": "code",
   "execution_count": null,
   "id": "bd7ad0da-7f1e-4c69-bbd0-11347f9219f0",
   "metadata": {},
   "outputs": [],
   "source": [
    "import random\n",
    "\n",
    "# Write your code below (construct the two corpora)\n",
    "pass\n",
    "\n",
    "# Write your code below (finetune the pretrained model on each corpus separately)\n",
    "pass\n",
    "\n",
    "# Write your code below (compare the two finetuned models on all common words in both model vocabularies\n",
    "pass"
   ]
  },
  {
   "cell_type": "markdown",
   "id": "28346188-04d7-43ff-8159-561704915480",
   "metadata": {},
   "source": [
    "#### 3b Congressman Vs Congresswoman"
   ]
  },
  {
   "cell_type": "code",
   "execution_count": null,
   "id": "d6254312-d55a-486f-8cf6-910cc8d069f4",
   "metadata": {},
   "outputs": [],
   "source": [
    "import random\n",
    "\n",
    "# Write your code below (construct the two corpora)\n",
    "pass\n",
    "\n",
    "# Write your code below (finetune the pretrained model on each corpus separately)\n",
    "pass\n",
    "\n",
    "# Write your code below (compare the two finetuned models on all common words in both model vocabularies\n",
    "pass"
   ]
  },
  {
   "cell_type": "markdown",
   "id": "c17316bd-5aa8-427d-89ea-b111cc648939",
   "metadata": {},
   "source": [
    "#### 3c 107th Congress Vs 111th Congress"
   ]
  },
  {
   "cell_type": "code",
   "execution_count": null,
   "id": "ff715050-543b-4830-b6c7-e4c33ba39cf8",
   "metadata": {},
   "outputs": [],
   "source": [
    "import random\n",
    "\n",
    "# Write your code below (construct the two corpora)\n",
    "pass\n",
    "\n",
    "# Write your code below (finetune the pretrained model on each corpus separately)\n",
    "pass\n",
    "\n",
    "# Write your code below (compare the two finetuned models on all common words in both model vocabularies\n",
    "pass"
   ]
  },
  {
   "cell_type": "markdown",
   "id": "c4b56005-0b76-4626-91c1-b3ff8e34f46e",
   "metadata": {},
   "source": [
    "#### 3d US Vs UK"
   ]
  },
  {
   "cell_type": "code",
   "execution_count": null,
   "id": "1ef47121-62dd-4d6e-a0a4-76f30e09eb53",
   "metadata": {},
   "outputs": [],
   "source": [
    "import random\n",
    "\n",
    "# Write your code below (construct the two corpora)\n",
    "pass\n",
    "\n",
    "# Write your code below (finetune the pretrained model on each corpus separately)\n",
    "pass\n",
    "\n",
    "# Write your code below (compare the two finetuned models on all common words in both model vocabularies\n",
    "pass"
   ]
  },
  {
   "cell_type": "markdown",
   "id": "fd960e42-0c28-4dcc-94b2-94419433fa59",
   "metadata": {},
   "source": [
    "#### 4a and 4b"
   ]
  },
  {
   "cell_type": "code",
   "execution_count": null,
   "id": "d8e3b2d8-40fe-484c-8e64-dbb81fdeb98a",
   "metadata": {},
   "outputs": [],
   "source": [
    "interesting_words = {\n",
    "    \"immigration\": [\"immigration\", \"asylum\", \"border\"],\n",
    "    \"healthcare\": [\"health\", \"insurance\", \"obamacare\"],\n",
    "    \"gun_reform\": [\"gun\", \"safety\", \"rights\"],\n",
    "    \"lgbtq\": [\"gay\", \"rights\", \"marriage\"],\n",
    "    \"abortion\": [\"abortion\", \"choice\", \"parenthood\"]\n",
    "}\n",
    "\n",
    "for issue in interesting_words:\n",
    "  for word in interesting_words[issue]:\n",
    "    # Write your code below (calculate the semantic variation for each word)\n",
    "    pass"
   ]
  }
 ],
 "metadata": {
  "kernelspec": {
   "display_name": "base",
   "language": "python",
   "name": "python3"
  },
  "language_info": {
   "codemirror_mode": {
    "name": "ipython",
    "version": 3
   },
   "file_extension": ".py",
   "mimetype": "text/x-python",
   "name": "python",
   "nbconvert_exporter": "python",
   "pygments_lexer": "ipython3",
   "version": "3.10.9"
  }
 },
 "nbformat": 4,
 "nbformat_minor": 5
}
